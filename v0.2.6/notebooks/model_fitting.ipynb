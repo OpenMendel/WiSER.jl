{
 "cells": [
  {
   "cell_type": "markdown",
   "metadata": {},
   "source": [
    "# Model Fitting\n",
    "\n",
    "`WiSER.jl` implements a regression method for modeling the within-subject variability of a longitudinal measurement. It stands for **wi**thin-**s**ubject variance **e**stimation by robust **r**egression. \n",
    "\n",
    "Here we cover model construction and parameter estimation using WiSER."
   ]
  },
  {
   "cell_type": "code",
   "execution_count": 1,
   "metadata": {},
   "outputs": [],
   "source": [
    "using CSV, DataFrames, WiSER"
   ]
  },
  {
   "cell_type": "markdown",
   "metadata": {},
   "source": [
    "## Example data"
   ]
  },
  {
   "cell_type": "markdown",
   "metadata": {},
   "source": [
    "The example dataset, `sbp.csv`, is contained in `data` folder of the package. It is a simulated datatset with 500 individuals, each having 9 to 11 observations. The outcome, systolic blood pressure (SBP), is a function of other covariates. Below we read in the data as a `DataFrame` using the [CSV package](https://juliadata.github.io/CSV.jl). WiSER.jl can take other data table objects that comply with the `Tables.jl` format, such as `IndexedTables` from the [JuliaDB](https://github.com/JuliaData/JuliaDB.jl) package."
   ]
  },
  {
   "cell_type": "code",
   "execution_count": 2,
   "metadata": {},
   "outputs": [],
   "source": [
    "filepath = normpath(joinpath(dirname(pathof(WiSER)), \"../data/\"))\n",
    "df = DataFrame(CSV.File(filepath * \"sbp.csv\"));"
   ]
  },
  {
   "cell_type": "markdown",
   "metadata": {},
   "source": [
    "```jldoctest\n",
    "5011×8 DataFrame\n",
    "  Row │ id     sbp      agegroup  gender  bmi      meds    bmi_std     obswt   \n",
    "      │ Int64  Float64  Float64   String  Float64  String  Float64     Float64 \n",
    "──────┼────────────────────────────────────────────────────────────────────────\n",
    "    1 │     1  159.586       3.0  Male    23.1336  NoMeds  -1.57733        4.0\n",
    "    2 │     1  161.849       3.0  Male    26.5885  NoMeds   1.29927        4.0\n",
    "    3 │     1  160.484       3.0  Male    24.8428  NoMeds  -0.154204       4.0\n",
    "    4 │     1  161.134       3.0  Male    24.9289  NoMeds  -0.0825105      4.0\n",
    "    5 │     1  165.443       3.0  Male    24.8057  NoMeds  -0.185105       4.0\n",
    "    6 │     1  160.053       3.0  Male    24.1583  NoMeds  -0.72415        4.0\n",
    "    7 │     1  162.1         3.0  Male    25.2543  NoMeds   0.188379       4.0\n",
    "    8 │     1  163.153       3.0  Male    24.3951  NoMeds  -0.527037       4.0\n",
    "  ⋮   │   ⋮       ⋮        ⋮        ⋮        ⋮       ⋮         ⋮          ⋮\n",
    " 5005 │   500  155.672       3.0  Female  24.4651  NoMeds  -0.468741       3.0\n",
    " 5006 │   500  148.389       3.0  Female  25.8129  NoMeds   0.653514       3.0\n",
    " 5007 │   500  152.491       3.0  Female  24.5818  NoMeds  -0.371555       3.0\n",
    " 5008 │   500  153.844       3.0  Female  25.721   NoMeds   0.57693        3.0\n",
    " 5009 │   500  150.164       3.0  Female  24.3545  NoMeds  -0.560843       3.0\n",
    " 5010 │   500  150.248       3.0  Female  23.8532  NoMeds  -0.978159       3.0\n",
    " 5011 │   500  152.433       3.0  Female  26.1232  NoMeds   0.911814       3.0\n",
    "```"
   ]
  },
  {
   "cell_type": "markdown",
   "metadata": {},
   "source": [
    "## Formulate model"
   ]
  },
  {
   "cell_type": "markdown",
   "metadata": {},
   "source": [
    "First we will create a `WSVarLmmModel` object from the dataframe.\n",
    "\n",
    "The `WSVarLmmModel()` function takes the following arguments: \n",
    "\n",
    "- `meanformula`: the formula for the mean fixed effects β (variables in X matrix).\n",
    "- `reformula`: the formula for the mean random effects γ (variables in Z matrix).\n",
    "- `wsvarformula`: the formula  for the within-subject variance fixed effects τ (variables in W matrix). \n",
    "- `idvar`: the id variable for groupings. \n",
    "- `tbl`: the datatable holding all of the data for the model. Can be a `DataFrame` or various types of tables that comply with `Tables.jl` formatting, such as an `IndexedTable`.\n",
    "- `wtvar`: Optional argument of variable name holding subject-level weights in the `tbl`.\n",
    "\n",
    "For documentation of the `WSVarLmmModel` function, type `?WSVarLmmModel` in Julia REPL.\n",
    "```@docs\n",
    "WSVarLmmModel\n",
    "```\n",
    "\n",
    "We will model sbp as a function of age, gender, and bmi_std. `bmi_std` is the centered and scaled `bmi`. The following commands fit the following model:\n"
   ]
  },
  {
   "cell_type": "markdown",
   "metadata": {},
   "source": [
    "$\\text{sbp}_{ij} = \\beta_0 + \\beta_1 \\cdot \\text{agegroup}_{ij} + \\beta_2 \\cdot \\text{gender}_{i} + \\beta_3 \\cdot \\text{bmi}_{ij} + \\gamma_{i0} + \\gamma_{i1} \\cdot \\text{bmi} + \\epsilon_{ij}$\n",
    "\n",
    "``\\epsilon_{ij}`` has mean 0 and variance ``\\sigma^2_{\\epsilon_{ij}}``\n",
    "\n",
    "``\\gamma_{i} = (\\gamma_{i0}, \\gamma_{i1})`` has mean **0** and variance ``\\Sigma_\\gamma``\n",
    "\n",
    "$\\sigma^2_{\\epsilon_{ij}} = \\exp(\\tau_0 + \\tau_1 \\cdot \\text{agegroup}_{ij} + \\tau_2 \\cdot \\text{gender}_{i} + \\tau_3 \\cdot \\text{bmi}_{ij})$"
   ]
  },
  {
   "cell_type": "code",
   "execution_count": 3,
   "metadata": {},
   "outputs": [],
   "source": [
    "vlmm = WSVarLmmModel(\n",
    "    @formula(sbp ~ 1 + agegroup + gender + bmi_std + meds), \n",
    "    @formula(sbp ~ 1 + bmi_std), \n",
    "    @formula(sbp ~ 1 + agegroup + meds + bmi_std),\n",
    "    :id, df);"
   ]
  },
  {
   "cell_type": "markdown",
   "metadata": {},
   "source": [
    "The `vlmm` object has the appropriate data formalated above. We can now use the `fit!()` function to fit the model."
   ]
  },
  {
   "cell_type": "markdown",
   "metadata": {},
   "source": [
    "## Fit model\n",
    "\n",
    "Main arguments of the `fit!()` function are:\n",
    "* `m::WSVarLmmModel`: The model to fit.\n",
    "* `solver`: Non-linear programming solver to be used.\n",
    "* `runs::Integer`: Number of weighted nonlinear least squares runs. Default is 2.\n",
    "\n",
    "For a complete documentation, type `?WSVarLmmModel` in Julia REPL.\n",
    "```@docs\n",
    "fit!\n",
    "```"
   ]
  },
  {
   "cell_type": "code",
   "execution_count": 4,
   "metadata": {},
   "outputs": [
    {
     "name": "stdout",
     "output_type": "stream",
     "text": [
      "\n",
      "******************************************************************************\n",
      "This program contains Ipopt, a library for large-scale nonlinear optimization.\n",
      " Ipopt is released as open source code under the Eclipse Public License (EPL).\n",
      "         For more information visit https://github.com/coin-or/Ipopt\n",
      "******************************************************************************\n",
      "\n",
      "run = 1, ‖Δβ‖ = 0.037311, ‖Δτ‖ = 0.166678, ‖ΔL‖ = 0.100999, status = Optimal, time(s) = 0.201188\n",
      "run = 2, ‖Δβ‖ = 0.005220, ‖Δτ‖ = 0.006748, ‖ΔL‖ = 0.048735, status = Optimal, time(s) = 0.080523\n"
     ]
    },
    {
     "data": {
      "text/plain": [
       "\n",
       "Within-subject variance estimation by robust regression (WiSER)\n",
       "\n",
       "Mean Formula:\n",
       "sbp ~ 1 + agegroup + gender + bmi_std + meds\n",
       "Random Effects Formula:\n",
       "sbp ~ 1 + bmi_std\n",
       "Within-Subject Variance Formula:\n",
       "sbp ~ 1 + agegroup + meds + bmi_std\n",
       "\n",
       "Number of individuals/clusters: 500\n",
       "Total observations: 5011\n",
       "\n",
       "Fixed-effects parameters:\n",
       "───────────────────────────────────────────────────────────\n",
       "                     Estimate  Std. Error       Z  Pr(>|Z|)\n",
       "───────────────────────────────────────────────────────────\n",
       "β1: (Intercept)   106.308       0.14384    739.07    <1e-99\n",
       "β2: agegroup       14.9844      0.0633245  236.63    <1e-99\n",
       "β3: gender: Male   10.0749      0.100279   100.47    <1e-99\n",
       "β4: bmi_std         0.296424    0.0139071   21.31    <1e-99\n",
       "β5: meds: OnMeds  -10.1107      0.122918   -82.26    <1e-99\n",
       "τ1: (Intercept)    -2.5212      0.393792    -6.40    <1e-09\n",
       "τ2: agegroup        1.50759     0.135456    11.13    <1e-28\n",
       "τ3: meds: OnMeds   -0.435225    0.0621076   -7.01    <1e-11\n",
       "τ4: bmi_std         0.0052695   0.0224039    0.24    0.8140\n",
       "───────────────────────────────────────────────────────────\n",
       "Random effects covariance matrix Σγ:\n",
       " \"γ1: (Intercept)\"  1.00196    0.0181387\n",
       " \"γ2: bmi_std\"      0.0181387  0.000549357\n",
       "\n"
      ]
     },
     "execution_count": 4,
     "metadata": {},
     "output_type": "execute_result"
    }
   ],
   "source": [
    "WiSER.fit!(vlmm)"
   ]
  },
  {
   "cell_type": "markdown",
   "metadata": {},
   "source": [
    "The estimated coefficients and random effects covariance parameters can be retrieved by"
   ]
  },
  {
   "cell_type": "code",
   "execution_count": 5,
   "metadata": {},
   "outputs": [
    {
     "data": {
      "text/plain": [
       "9-element Vector{Float64}:\n",
       " 106.3082866175766\n",
       "  14.984423626293006\n",
       "  10.074886642511672\n",
       "   0.29642385700569635\n",
       " -10.110677648545401\n",
       "  -2.5211956122840613\n",
       "   1.5075882029989467\n",
       "  -0.43522497609297117\n",
       "   0.005269501831413771"
      ]
     },
     "execution_count": 5,
     "metadata": {},
     "output_type": "execute_result"
    }
   ],
   "source": [
    "coef(vlmm)"
   ]
  },
  {
   "cell_type": "markdown",
   "metadata": {},
   "source": [
    "or individually"
   ]
  },
  {
   "cell_type": "code",
   "execution_count": 6,
   "metadata": {},
   "outputs": [
    {
     "data": {
      "text/plain": [
       "5-element Vector{Float64}:\n",
       " 106.3082866175766\n",
       "  14.984423626293006\n",
       "  10.074886642511672\n",
       "   0.29642385700569635\n",
       " -10.110677648545401"
      ]
     },
     "execution_count": 6,
     "metadata": {},
     "output_type": "execute_result"
    }
   ],
   "source": [
    "vlmm.β"
   ]
  },
  {
   "cell_type": "code",
   "execution_count": 7,
   "metadata": {},
   "outputs": [
    {
     "data": {
      "text/plain": [
       "4-element Vector{Float64}:\n",
       " -2.5211956122840613\n",
       "  1.5075882029989467\n",
       " -0.43522497609297117\n",
       "  0.005269501831413771"
      ]
     },
     "execution_count": 7,
     "metadata": {},
     "output_type": "execute_result"
    }
   ],
   "source": [
    "vlmm.τ"
   ]
  },
  {
   "cell_type": "code",
   "execution_count": 8,
   "metadata": {},
   "outputs": [
    {
     "data": {
      "text/plain": [
       "2×2 Matrix{Float64}:\n",
       " 1.00196    0.0181387\n",
       " 0.0181387  0.000549357"
      ]
     },
     "execution_count": 8,
     "metadata": {},
     "output_type": "execute_result"
    }
   ],
   "source": [
    "vlmm.Σγ"
   ]
  },
  {
   "cell_type": "markdown",
   "metadata": {},
   "source": [
    "The variance-covariance matrix of the estimated parameters (β, τ, Lγ) can be rerieved by"
   ]
  },
  {
   "cell_type": "code",
   "execution_count": 9,
   "metadata": {},
   "outputs": [
    {
     "data": {
      "text/plain": [
       "12×12 Matrix{Float64}:\n",
       "  0.0206899    -0.00753187   -0.00618382   …  -0.000123531   0.0644858\n",
       " -0.00753187    0.00400999    0.000152994      4.07896e-5   -0.0194226\n",
       " -0.00618382    0.000152994   0.0100558        4.35497e-5   -0.0299542\n",
       "  5.60981e-5   -4.80751e-5    0.000108448      8.06623e-6    0.00149567\n",
       " -0.00311952   -0.000362412   0.00122535      -7.1571e-5     0.0168424\n",
       " -0.00652959    0.00207365    0.00276734   …   0.00217472   -1.70443\n",
       "  0.00229271   -0.000743467  -0.000951293     -0.000740359   0.58213\n",
       " -0.000719608   0.000263081   0.000294779      0.000197117  -0.152908\n",
       "  3.10756e-5    1.70391e-5   -0.00011849      -5.50781e-5    0.0266044\n",
       "  0.000166021  -3.24178e-6   -0.00011537       9.0954e-6    -0.00139559\n",
       " -0.000123531   4.07896e-5    4.35497e-5   …   7.84536e-5   -0.0244586\n",
       "  0.0644858    -0.0194226    -0.0299542       -0.0244586    19.1312"
      ]
     },
     "execution_count": 9,
     "metadata": {},
     "output_type": "execute_result"
    }
   ],
   "source": [
    "vlmm.vcov"
   ]
  },
  {
   "cell_type": "markdown",
   "metadata": {},
   "source": [
    "Confidence intervals for $\\boldsymbol{\\beta}, \\boldsymbol{\\tau}$ can be obtained by `confint`. By default it returns 95% confidence intervals ($\\alpha$ level = 0.05). "
   ]
  },
  {
   "cell_type": "code",
   "execution_count": 10,
   "metadata": {},
   "outputs": [
    {
     "data": {
      "text/plain": [
       "9×2 Matrix{Float64}:\n",
       " 106.026      106.59\n",
       "  14.8603      15.1085\n",
       "   9.87834     10.2714\n",
       "   0.269167     0.323681\n",
       " -10.3516      -9.86976\n",
       "  -3.29301     -1.74938\n",
       "   1.2421       1.77308\n",
       "  -0.556954    -0.313496\n",
       "  -0.0386413    0.0491803"
      ]
     },
     "execution_count": 10,
     "metadata": {},
     "output_type": "execute_result"
    }
   ],
   "source": [
    "confint(vlmm)"
   ]
  },
  {
   "cell_type": "code",
   "execution_count": 11,
   "metadata": {},
   "outputs": [
    {
     "data": {
      "text/plain": [
       "9×2 Matrix{Float64}:\n",
       " 106.29       106.326\n",
       "  14.9765      14.9924\n",
       "  10.0623      10.0875\n",
       "   0.294676     0.298171\n",
       " -10.1261     -10.0952\n",
       "  -2.57068     -2.47171\n",
       "   1.49057      1.52461\n",
       "  -0.44303     -0.42742\n",
       "   0.0024542    0.00808481"
      ]
     },
     "execution_count": 11,
     "metadata": {},
     "output_type": "execute_result"
    }
   ],
   "source": [
    "# 90% confidence interval\n",
    "confint(vlmm, 0.1)"
   ]
  },
  {
   "cell_type": "markdown",
   "metadata": {},
   "source": [
    "**Note**: The default solver for WiSER.jl is :\n",
    "\n",
    "`Ipopt.IpoptSolver(print_level=0, mehrotra_algorithm = \"yes\", warm_start_init_point=\"yes\", max_iter=100)` \n",
    "\n",
    "This was chosen as it a free, open-source solver and the options typically reduce line search and lead to much faster fitting than other options. However, it can be a bit more instable. Below are tips to help improve estimation if the fit seems very off or fails. Switching the solver options or removing them and assigning it to the base Ipopt Solver `Ipopt.IpoptSolver(max_iter=100)` can take longer to converge but is usually a bit more stable. "
   ]
  },
  {
   "cell_type": "markdown",
   "metadata": {},
   "source": [
    "## Tips for improving estimation\n",
    "\n",
    "`fit!` may fail due to various reasons. Often it indicates ill-conditioned data or an inadequate model. Following strategies may improve the fit. "
   ]
  },
  {
   "cell_type": "markdown",
   "metadata": {},
   "source": [
    "### Standardize continuous predictors\n",
    "\n",
    "In above example, we used the standardardized `bmi`. If we used the original `bmi` variable, the estimates of τ are instable, reflected by the large standard errors."
   ]
  },
  {
   "cell_type": "code",
   "execution_count": 12,
   "metadata": {},
   "outputs": [
    {
     "name": "stdout",
     "output_type": "stream",
     "text": [
      "run = 1, ‖Δβ‖ = 0.208950, ‖Δτ‖ = 0.445610, ‖ΔL‖ = 2.027674, status = Optimal, time(s) = 0.079164\n",
      "run = 2, ‖Δβ‖ = 0.032012, ‖Δτ‖ = 0.014061, ‖ΔL‖ = 0.780198, status = Optimal, time(s) = 0.125981\n"
     ]
    },
    {
     "data": {
      "text/plain": [
       "\n",
       "Within-subject variance estimation by robust regression (WiSER)\n",
       "\n",
       "Mean Formula:\n",
       "sbp ~ 1 + agegroup + gender + bmi + meds\n",
       "Random Effects Formula:\n",
       "sbp ~ 1 + bmi\n",
       "Within-Subject Variance Formula:\n",
       "sbp ~ 1 + agegroup + meds + bmi\n",
       "\n",
       "Number of individuals/clusters: 500\n",
       "Total observations: 5011\n",
       "\n",
       "Fixed-effects parameters:\n",
       "────────────────────────────────────────────────────────────\n",
       "                      Estimate  Std. Error       Z  Pr(>|Z|)\n",
       "────────────────────────────────────────────────────────────\n",
       "β1: (Intercept)   100.131        0.319906   313.00    <1e-99\n",
       "β2: agegroup       14.9844       0.0633245  236.63    <1e-99\n",
       "β3: gender: Male   10.0749       0.100279   100.47    <1e-99\n",
       "β4: bmi             0.246808     0.0115793   21.31    <1e-99\n",
       "β5: meds: OnMeds  -10.1107       0.122918   -82.26    <1e-99\n",
       "τ1: (Intercept)    -2.63101     17.2804      -0.15    0.8790\n",
       "τ2: agegroup        1.50759      5.69286      0.26    0.7911\n",
       "τ3: meds: OnMeds   -0.435225     1.37021     -0.32    0.7508\n",
       "τ4: bmi             0.00438748   0.0281074    0.16    0.8760\n",
       "────────────────────────────────────────────────────────────\n",
       "Random effects covariance matrix Σγ:\n",
       " \"γ1: (Intercept)\"  0.484542    0.00557087\n",
       " \"γ2: bmi\"          0.00557087  0.000380843\n",
       "\n"
      ]
     },
     "execution_count": 12,
     "metadata": {},
     "output_type": "execute_result"
    }
   ],
   "source": [
    "# using unscaled bmi causes ill-conditioning\n",
    "vlmm_bmi = WSVarLmmModel(\n",
    "    @formula(sbp ~ 1 + agegroup + gender + bmi + meds), \n",
    "    @formula(sbp ~ 1 + bmi), \n",
    "    @formula(sbp ~ 1 + agegroup + meds + bmi),\n",
    "    :id, df);\n",
    "WiSER.fit!(vlmm_bmi)"
   ]
  },
  {
   "cell_type": "markdown",
   "metadata": {},
   "source": [
    "### Increase `runs`\n",
    "\n",
    "Increasing `runs` (default is 2) takes more computing resources but can be useful to get more precise estimates. If we set `runs=3` when using original `bmi` (ill-conditioned), the estimated τ are more accurate. The estimate of Σγ is still off though."
   ]
  },
  {
   "cell_type": "code",
   "execution_count": 13,
   "metadata": {},
   "outputs": [
    {
     "name": "stdout",
     "output_type": "stream",
     "text": [
      "run = 1, ‖Δβ‖ = 0.208950, ‖Δτ‖ = 0.445610, ‖ΔL‖ = 2.027674, status = Optimal, time(s) = 0.085767\n",
      "run = 2, ‖Δβ‖ = 0.032012, ‖Δτ‖ = 0.014061, ‖ΔL‖ = 0.780198, status = Optimal, time(s) = 0.129032\n",
      "run = 3, ‖Δβ‖ = 0.008059, ‖Δτ‖ = 0.000678, ‖ΔL‖ = 0.083976, status = Optimal, time(s) = 0.154331\n"
     ]
    },
    {
     "data": {
      "text/plain": [
       "\n",
       "Within-subject variance estimation by robust regression (WiSER)\n",
       "\n",
       "Mean Formula:\n",
       "sbp ~ 1 + agegroup + gender + bmi + meds\n",
       "Random Effects Formula:\n",
       "sbp ~ 1 + bmi\n",
       "Within-Subject Variance Formula:\n",
       "sbp ~ 1 + agegroup + meds + bmi\n",
       "\n",
       "Number of individuals/clusters: 500\n",
       "Total observations: 5011\n",
       "\n",
       "Fixed-effects parameters:\n",
       "────────────────────────────────────────────────────────────\n",
       "                      Estimate  Std. Error       Z  Pr(>|Z|)\n",
       "────────────────────────────────────────────────────────────\n",
       "β1: (Intercept)   100.139        0.315745   317.15    <1e-99\n",
       "β2: agegroup       14.9839       0.0633172  236.65    <1e-99\n",
       "β3: gender: Male   10.0753       0.10027    100.48    <1e-99\n",
       "β4: bmi             0.246528     0.0114083   21.61    <1e-99\n",
       "β5: meds: OnMeds  -10.1109       0.122778   -82.35    <1e-99\n",
       "τ1: (Intercept)    -2.63079      0.453424    -5.80    <1e-08\n",
       "τ2: agegroup        1.5079       0.0253371   59.51    <1e-99\n",
       "τ3: meds: OnMeds   -0.435791     0.051245    -8.50    <1e-16\n",
       "τ4: bmi             0.00436541   0.0178825    0.24    0.8071\n",
       "────────────────────────────────────────────────────────────\n",
       "Random effects covariance matrix Σγ:\n",
       " \"γ1: (Intercept)\"  0.377439    0.00949012\n",
       " \"γ2: bmi\"          0.00949012  0.000238614\n",
       "\n"
      ]
     },
     "execution_count": 13,
     "metadata": {},
     "output_type": "execute_result"
    }
   ],
   "source": [
    "# improve estimates from ill-conditioned data by more runs\n",
    "WiSER.fit!(vlmm_bmi, runs=3)"
   ]
  },
  {
   "cell_type": "markdown",
   "metadata": {},
   "source": [
    "### Try different nonlinear programming (NLP) solvers \n",
    "\n",
    "A different solver may remedy the issue. By default, `WiSER.jl` uses the [Ipopt](https://github.com/jump-dev/Ipopt.jl) solver, but it can use any solver that supports [MathProgBase.jl](https://github.com/JuliaOpt/MathProgBase.jl). Check documentation of `fit!` for commonly used NLP solvers. In our experience, [Knitro.jl](https://github.com/JuliaOpt/KNITRO.jl) works the best, but it is a commercial software."
   ]
  },
  {
   "cell_type": "code",
   "execution_count": 14,
   "metadata": {},
   "outputs": [
    {
     "name": "stdout",
     "output_type": "stream",
     "text": [
      "run = 1, ‖Δβ‖ = 0.037311, ‖Δτ‖ = 0.166678, ‖ΔL‖ = 0.100999, status = Optimal, time(s) = 0.081864\n",
      "run = 2, ‖Δβ‖ = 0.005220, ‖Δτ‖ = 0.006748, ‖ΔL‖ = 0.048735, status = Optimal, time(s) = 0.068715\n"
     ]
    },
    {
     "data": {
      "text/plain": [
       "\n",
       "Within-subject variance estimation by robust regression (WiSER)\n",
       "\n",
       "Mean Formula:\n",
       "sbp ~ 1 + agegroup + gender + bmi_std + meds\n",
       "Random Effects Formula:\n",
       "sbp ~ 1 + bmi_std\n",
       "Within-Subject Variance Formula:\n",
       "sbp ~ 1 + agegroup + meds + bmi_std\n",
       "\n",
       "Number of individuals/clusters: 500\n",
       "Total observations: 5011\n",
       "\n",
       "Fixed-effects parameters:\n",
       "───────────────────────────────────────────────────────────\n",
       "                     Estimate  Std. Error       Z  Pr(>|Z|)\n",
       "───────────────────────────────────────────────────────────\n",
       "β1: (Intercept)   106.308       0.14384    739.07    <1e-99\n",
       "β2: agegroup       14.9844      0.0633245  236.63    <1e-99\n",
       "β3: gender: Male   10.0749      0.100279   100.47    <1e-99\n",
       "β4: bmi_std         0.296424    0.0139071   21.31    <1e-99\n",
       "β5: meds: OnMeds  -10.1107      0.122918   -82.26    <1e-99\n",
       "τ1: (Intercept)    -2.5212      0.393792    -6.40    <1e-09\n",
       "τ2: agegroup        1.50759     0.135456    11.13    <1e-28\n",
       "τ3: meds: OnMeds   -0.435225    0.0621076   -7.01    <1e-11\n",
       "τ4: bmi_std         0.0052695   0.0224039    0.24    0.8140\n",
       "───────────────────────────────────────────────────────────\n",
       "Random effects covariance matrix Σγ:\n",
       " \"γ1: (Intercept)\"  1.00196    0.0181387\n",
       " \"γ2: bmi_std\"      0.0181387  0.000549357\n",
       "\n"
      ]
     },
     "execution_count": 14,
     "metadata": {},
     "output_type": "execute_result"
    }
   ],
   "source": [
    "# watchdog_shortened_iter_trigger option in IPOPT can sometimes be more robust to numerical issues\n",
    "WiSER.fit!(vlmm, Ipopt.IpoptSolver(print_level=0, watchdog_shortened_iter_trigger=3, max_iter=100))"
   ]
  },
  {
   "cell_type": "code",
   "execution_count": 15,
   "metadata": {},
   "outputs": [
    {
     "name": "stdout",
     "output_type": "stream",
     "text": [
      "This is Ipopt version 3.13.4, running with linear solver mumps.\n",
      "NOTE: Other linear solvers might be more efficient (see Ipopt documentation).\n",
      "\n",
      "Number of nonzeros in equality constraint Jacobian...:        0\n",
      "Number of nonzeros in inequality constraint Jacobian.:        0\n",
      "Number of nonzeros in Lagrangian Hessian.............:       28\n",
      "\n",
      "Total number of variables............................:        7\n",
      "                     variables with only lower bounds:        0\n",
      "                variables with lower and upper bounds:        0\n",
      "                     variables with only upper bounds:        0\n",
      "Total number of equality constraints.................:        0\n",
      "Total number of inequality constraints...............:        0\n",
      "        inequality constraints with only lower bounds:        0\n",
      "   inequality constraints with lower and upper bounds:        0\n",
      "        inequality constraints with only upper bounds:        0\n",
      "\n",
      "iter    objective    inf_pr   inf_du lg(mu)  ||d||  lg(rg) alpha_du alpha_pr  ls\n",
      "   0  2.8331778e+04 0.00e+00 1.00e+02   0.0 0.00e+00    -  0.00e+00 0.00e+00   0\n",
      "   1  2.8314110e+04 0.00e+00 2.49e+01 -11.0 3.08e-01    -  1.00e+00 1.00e+00f  1\n",
      "   2  2.8312135e+04 0.00e+00 3.32e+00 -11.0 2.63e-01    -  1.00e+00 1.00e+00f  1\n",
      "   3  2.8311752e+04 0.00e+00 1.36e+00 -11.0 2.08e-01    -  1.00e+00 1.00e+00f  1\n",
      "   4  2.8311700e+04 0.00e+00 3.34e-01 -11.0 1.25e-01    -  1.00e+00 1.00e+00f  1\n",
      "   5  2.8311697e+04 0.00e+00 2.79e-02 -11.0 3.98e-02    -  1.00e+00 1.00e+00f  1\n",
      "   6  2.8311697e+04 0.00e+00 2.40e-04 -11.0 3.48e-03    -  1.00e+00 1.00e+00f  1\n",
      "   7  2.8311697e+04 0.00e+00 5.47e-06 -11.0 2.47e-05    -  1.00e+00 1.00e+00f  1\n",
      "   8  2.8311697e+04 0.00e+00 9.63e-08 -11.0 1.20e-08    -  1.00e+00 1.00e+00f  1\n",
      "   9  2.8311697e+04 0.00e+00 5.21e-09 -11.0 1.61e-10    -  1.00e+00 1.00e+00f  1\n",
      "\n",
      "Number of Iterations....: 9\n",
      "\n",
      "                                   (scaled)                 (unscaled)\n",
      "Objective...............:   1.6226171160602307e+04    2.8311697021847336e+04\n",
      "Dual infeasibility......:   5.2103428765066918e-09    9.0910940997446232e-09\n",
      "Constraint violation....:   0.0000000000000000e+00    0.0000000000000000e+00\n",
      "Complementarity.........:   0.0000000000000000e+00    0.0000000000000000e+00\n",
      "Overall NLP error.......:   5.2103428765066918e-09    9.0910940997446232e-09\n",
      "\n",
      "\n",
      "Number of objective function evaluations             = 10\n",
      "Number of objective gradient evaluations             = 10\n",
      "Number of equality constraint evaluations            = 0\n",
      "Number of inequality constraint evaluations          = 0\n",
      "Number of equality constraint Jacobian evaluations   = 0\n",
      "Number of inequality constraint Jacobian evaluations = 0\n",
      "Number of Lagrangian Hessian evaluations             = 9\n",
      "Total CPU secs in IPOPT (w/o function evaluations)   =      0.008\n",
      "Total CPU secs in NLP function evaluations           =      0.057\n",
      "\n",
      "EXIT: Optimal Solution Found.\n",
      "run = 1, ‖Δβ‖ = 0.037311, ‖Δτ‖ = 0.166678, ‖ΔL‖ = 0.100999, status = Optimal, time(s) = 0.081372\n",
      "This is Ipopt version 3.13.4, running with linear solver mumps.\n",
      "NOTE: Other linear solvers might be more efficient (see Ipopt documentation).\n",
      "\n",
      "Number of nonzeros in equality constraint Jacobian...:        0\n",
      "Number of nonzeros in inequality constraint Jacobian.:        0\n",
      "Number of nonzeros in Lagrangian Hessian.............:       28\n",
      "\n",
      "Total number of variables............................:        7\n",
      "                     variables with only lower bounds:        0\n",
      "                variables with lower and upper bounds:        0\n",
      "                     variables with only upper bounds:        0\n",
      "Total number of equality constraints.................:        0\n",
      "Total number of inequality constraints...............:        0\n",
      "        inequality constraints with only lower bounds:        0\n",
      "   inequality constraints with lower and upper bounds:        0\n",
      "        inequality constraints with only upper bounds:        0\n",
      "\n",
      "iter    objective    inf_pr   inf_du lg(mu)  ||d||  lg(rg) alpha_du alpha_pr  ls\n",
      "   0  2.7170793e+04 0.00e+00 1.52e+01   0.0 0.00e+00    -  0.00e+00 0.00e+00   0\n",
      "   1  2.7170194e+04 0.00e+00 3.80e+00 -11.0 3.15e-01    -  1.00e+00 1.00e+00f  1\n",
      "   2  2.7170055e+04 0.00e+00 1.91e+00 -11.0 3.07e-01    -  1.00e+00 1.00e+00f  1\n",
      "   3  2.7170020e+04 0.00e+00 9.10e-01 -11.0 2.86e-01    -  1.00e+00 1.00e+00f  1\n",
      "   4  2.7170013e+04 0.00e+00 3.93e-01 -11.0 2.47e-01    -  1.00e+00 1.00e+00f  1\n",
      "   5  2.7170011e+04 0.00e+00 1.35e-01 -11.0 1.82e-01    -  1.00e+00 1.00e+00f  1\n",
      "   6  2.7170011e+04 0.00e+00 2.58e-02 -11.0 9.30e-02    -  1.00e+00 1.00e+00f  1\n",
      "   7  2.7170011e+04 0.00e+00 1.16e-03 -11.0 2.12e-02    -  1.00e+00 1.00e+00f  1\n",
      "   8  2.7170011e+04 0.00e+00 9.88e-06 -11.0 9.61e-04    -  1.00e+00 1.00e+00f  1\n",
      "   9  2.7170011e+04 0.00e+00 2.64e-07 -11.0 2.10e-06    -  1.00e+00 1.00e+00f  1\n",
      "iter    objective    inf_pr   inf_du lg(mu)  ||d||  lg(rg) alpha_du alpha_pr  ls\n",
      "  10  2.7170011e+04 0.00e+00 4.68e-09 -11.0 6.64e-09    -  1.00e+00 1.00e+00f  1\n",
      "\n",
      "Number of Iterations....: 10\n",
      "\n",
      "                                   (scaled)                 (unscaled)\n",
      "Objective...............:   2.7170011141755771e+04    2.7170011141755771e+04\n",
      "Dual infeasibility......:   4.6827675070915120e-09    4.6827675070915120e-09\n",
      "Constraint violation....:   0.0000000000000000e+00    0.0000000000000000e+00\n",
      "Complementarity.........:   0.0000000000000000e+00    0.0000000000000000e+00\n",
      "Overall NLP error.......:   4.6827675070915120e-09    4.6827675070915120e-09\n",
      "\n",
      "\n",
      "Number of objective function evaluations             = 11\n",
      "Number of objective gradient evaluations             = 11\n",
      "Number of equality constraint evaluations            = 0\n",
      "Number of inequality constraint evaluations          = 0\n",
      "Number of equality constraint Jacobian evaluations   = 0\n",
      "Number of inequality constraint Jacobian evaluations = 0\n",
      "Number of Lagrangian Hessian evaluations             = 10\n",
      "Total CPU secs in IPOPT (w/o function evaluations)   =      0.008\n",
      "Total CPU secs in NLP function evaluations           =      0.057\n",
      "\n",
      "EXIT: Optimal Solution Found.\n",
      "run = 2, ‖Δβ‖ = 0.005220, ‖Δτ‖ = 0.006748, ‖ΔL‖ = 0.048735, status = Optimal, time(s) = 0.068690\n"
     ]
    },
    {
     "data": {
      "text/plain": [
       "\n",
       "Within-subject variance estimation by robust regression (WiSER)\n",
       "\n",
       "Mean Formula:\n",
       "sbp ~ 1 + agegroup + gender + bmi_std + meds\n",
       "Random Effects Formula:\n",
       "sbp ~ 1 + bmi_std\n",
       "Within-Subject Variance Formula:\n",
       "sbp ~ 1 + agegroup + meds + bmi_std\n",
       "\n",
       "Number of individuals/clusters: 500\n",
       "Total observations: 5011\n",
       "\n",
       "Fixed-effects parameters:\n",
       "───────────────────────────────────────────────────────────\n",
       "                     Estimate  Std. Error       Z  Pr(>|Z|)\n",
       "───────────────────────────────────────────────────────────\n",
       "β1: (Intercept)   106.308       0.14384    739.07    <1e-99\n",
       "β2: agegroup       14.9844      0.0633245  236.63    <1e-99\n",
       "β3: gender: Male   10.0749      0.100279   100.47    <1e-99\n",
       "β4: bmi_std         0.296424    0.0139071   21.31    <1e-99\n",
       "β5: meds: OnMeds  -10.1107      0.122918   -82.26    <1e-99\n",
       "τ1: (Intercept)    -2.5212      0.393792    -6.40    <1e-09\n",
       "τ2: agegroup        1.50759     0.135456    11.13    <1e-28\n",
       "τ3: meds: OnMeds   -0.435225    0.0621076   -7.01    <1e-11\n",
       "τ4: bmi_std         0.0052695   0.0224039    0.24    0.8140\n",
       "───────────────────────────────────────────────────────────\n",
       "Random effects covariance matrix Σγ:\n",
       " \"γ1: (Intercept)\"  1.00196    0.0181387\n",
       " \"γ2: bmi_std\"      0.0181387  0.000549357\n",
       "\n"
      ]
     },
     "execution_count": 15,
     "metadata": {},
     "output_type": "execute_result"
    }
   ],
   "source": [
    "# print Ipopt iterates for diagnostics\n",
    "WiSER.fit!(vlmm, Ipopt.IpoptSolver(print_level=5, mehrotra_algorithm=\"yes\", warm_start_init_point=\"yes\"))"
   ]
  },
  {
   "cell_type": "code",
   "execution_count": 16,
   "metadata": {},
   "outputs": [],
   "source": [
    "# use Knitro (require installation of Knitro software and Knitro.jl)\n",
    "# Using KNITRO\n",
    "# WiSER.fit!(vlmm, KNITRO.KnitroSolver(outlev=3));"
   ]
  },
  {
   "cell_type": "code",
   "execution_count": 17,
   "metadata": {},
   "outputs": [
    {
     "name": "stdout",
     "output_type": "stream",
     "text": [
      "run = 1, ‖Δβ‖ = 0.037311, ‖Δτ‖ = 0.162196, ‖ΔL‖ = 0.100050, status = Optimal, time(s) = 0.148150\n",
      "run = 2, ‖Δβ‖ = 0.005248, ‖Δτ‖ = 0.008747, ‖ΔL‖ = 0.001335, status = Optimal, time(s) = 0.052991\n"
     ]
    },
    {
     "data": {
      "text/plain": [
       "\n",
       "Within-subject variance estimation by robust regression (WiSER)\n",
       "\n",
       "Mean Formula:\n",
       "sbp ~ 1 + agegroup + gender + bmi_std + meds\n",
       "Random Effects Formula:\n",
       "sbp ~ 1 + bmi_std\n",
       "Within-Subject Variance Formula:\n",
       "sbp ~ 1 + agegroup + meds + bmi_std\n",
       "\n",
       "Number of individuals/clusters: 500\n",
       "Total observations: 5011\n",
       "\n",
       "Fixed-effects parameters:\n",
       "───────────────────────────────────────────────────────────\n",
       "                     Estimate  Std. Error       Z  Pr(>|Z|)\n",
       "───────────────────────────────────────────────────────────\n",
       "β1: (Intercept)   106.308       0.14384    739.07    <1e-99\n",
       "β2: agegroup       14.9844      0.0633238  236.63    <1e-99\n",
       "β3: gender: Male   10.0749      0.100277   100.47    <1e-99\n",
       "β4: bmi_std         0.296421    0.0139114   21.31    <1e-99\n",
       "β5: meds: OnMeds  -10.1106      0.122912   -82.26    <1e-99\n",
       "τ1: (Intercept)    -2.53263     0.102707   -24.66    <1e-99\n",
       "τ2: agegroup        1.51161     0.038887    38.87    <1e-99\n",
       "τ3: meds: OnMeds   -0.435901    0.0524849   -8.31    <1e-16\n",
       "τ4: bmi_std         0.0057698   0.0218516    0.26    0.7917\n",
       "───────────────────────────────────────────────────────────\n",
       "Random effects covariance matrix Σγ:\n",
       " \"γ1: (Intercept)\"  1.00228    0.0179118\n",
       " \"γ2: bmi_std\"      0.0179118  0.00441744\n",
       "\n"
      ]
     },
     "execution_count": 17,
     "metadata": {},
     "output_type": "execute_result"
    }
   ],
   "source": [
    "# use NLopt\n",
    "WiSER.fit!(vlmm, NLopt.NLoptSolver(algorithm=:LD_MMA, maxeval=4000))"
   ]
  },
  {
   "cell_type": "markdown",
   "metadata": {},
   "source": [
    "Using a different solver can even help without the need for standardizing predictors. If we use the NLOPT solver with the `LD_MMA` algorithm on the model where bmi is not standardized we don't see heavily inflated standard errors."
   ]
  },
  {
   "cell_type": "code",
   "execution_count": 18,
   "metadata": {},
   "outputs": [
    {
     "name": "stdout",
     "output_type": "stream",
     "text": [
      "run = 1, ‖Δβ‖ = 0.208950, ‖Δτ‖ = 0.143776, ‖ΔL‖ = 1.528229, status = Optimal, time(s) = 0.604965\n",
      "run = 2, ‖Δβ‖ = 0.026830, ‖Δτ‖ = 0.000125, ‖ΔL‖ = 0.000257, status = Optimal, time(s) = 0.046570\n"
     ]
    },
    {
     "data": {
      "text/plain": [
       "\n",
       "Within-subject variance estimation by robust regression (WiSER)\n",
       "\n",
       "Mean Formula:\n",
       "sbp ~ 1 + agegroup + gender + bmi + meds\n",
       "Random Effects Formula:\n",
       "sbp ~ 1 + bmi\n",
       "Within-Subject Variance Formula:\n",
       "sbp ~ 1 + agegroup + meds + bmi\n",
       "\n",
       "Number of individuals/clusters: 500\n",
       "Total observations: 5011\n",
       "\n",
       "Fixed-effects parameters:\n",
       "───────────────────────────────────────────────────────────\n",
       "                     Estimate  Std. Error       Z  Pr(>|Z|)\n",
       "───────────────────────────────────────────────────────────\n",
       "β1: (Intercept)   100.126       0.323755   309.26    <1e-99\n",
       "β2: agegroup       14.9849      0.0633317  236.61    <1e-99\n",
       "β3: gender: Male   10.0748      0.10029    100.46    <1e-99\n",
       "β4: bmi             0.246967    0.0117298   21.05    <1e-97\n",
       "β5: meds: OnMeds  -10.1094      0.122977   -82.21    <1e-99\n",
       "τ1: (Intercept)    -3.01501     0.811039    -3.72    0.0002\n",
       "τ2: agegroup        1.50948     0.0468194   32.24    <1e-99\n",
       "τ3: meds: OnMeds   -0.426979    0.0519209   -8.22    <1e-15\n",
       "τ4: bmi             0.0192299   0.0368267    0.52    0.6016\n",
       "───────────────────────────────────────────────────────────\n",
       "Random effects covariance matrix Σγ:\n",
       " \"γ1: (Intercept)\"   3.89413   -0.127903\n",
       " \"γ2: bmi\"          -0.127903   0.00561294\n",
       "\n"
      ]
     },
     "execution_count": 18,
     "metadata": {},
     "output_type": "execute_result"
    }
   ],
   "source": [
    "# Using other solvers can work without standardizing \n",
    "WiSER.fit!(vlmm_bmi, NLopt.NLoptSolver(algorithm=:LD_MMA, maxeval=4000))"
   ]
  },
  {
   "cell_type": "markdown",
   "metadata": {},
   "source": [
    "### Try different starting points\n",
    "\n",
    "Initialization matters as well. By default, `fit!` uses a crude least squares estimate as the starting point. We can also try a method of moment estimate or user-supplied values."
   ]
  },
  {
   "cell_type": "code",
   "execution_count": 19,
   "metadata": {},
   "outputs": [
    {
     "name": "stdout",
     "output_type": "stream",
     "text": [
      "run = 1, ‖Δβ‖ = 0.036245, ‖Δτ‖ = 0.188207, ‖ΔL‖ = 0.127483, status = Optimal, time(s) = 0.062208\n",
      "run = 2, ‖Δβ‖ = 0.006798, ‖Δτ‖ = 0.009128, ‖ΔL‖ = 0.050049, status = Optimal, time(s) = 0.059064\n"
     ]
    },
    {
     "data": {
      "text/plain": [
       "\n",
       "Within-subject variance estimation by robust regression (WiSER)\n",
       "\n",
       "Mean Formula:\n",
       "sbp ~ 1 + agegroup + gender + bmi_std + meds\n",
       "Random Effects Formula:\n",
       "sbp ~ 1 + bmi_std\n",
       "Within-Subject Variance Formula:\n",
       "sbp ~ 1 + agegroup + meds + bmi_std\n",
       "\n",
       "Number of individuals/clusters: 500\n",
       "Total observations: 5011\n",
       "\n",
       "Fixed-effects parameters:\n",
       "────────────────────────────────────────────────────────────\n",
       "                      Estimate  Std. Error       Z  Pr(>|Z|)\n",
       "────────────────────────────────────────────────────────────\n",
       "β1: (Intercept)   106.308        0.143831   739.12    <1e-99\n",
       "β2: agegroup       14.9846       0.063327   236.62    <1e-99\n",
       "β3: gender: Male   10.0747       0.100282   100.46    <1e-99\n",
       "β4: bmi_std         0.296596     0.013989    21.20    <1e-99\n",
       "β5: meds: OnMeds  -10.1107       0.122973   -82.22    <1e-99\n",
       "τ1: (Intercept)    -2.52233      0.218068   -11.57    <1e-30\n",
       "τ2: agegroup        1.5079       0.0759423   19.86    <1e-87\n",
       "τ3: meds: OnMeds   -0.434951     0.0549139   -7.92    <1e-14\n",
       "τ4: bmi_std         0.00527178   0.0220323    0.24    0.8109\n",
       "────────────────────────────────────────────────────────────\n",
       "Random effects covariance matrix Σγ:\n",
       " \"γ1: (Intercept)\"  1.00193    0.0180064\n",
       " \"γ2: bmi_std\"      0.0180064  0.000967577\n",
       "\n"
      ]
     },
     "execution_count": 19,
     "metadata": {},
     "output_type": "execute_result"
    }
   ],
   "source": [
    "# MoM starting point\n",
    "WiSER.fit!(vlmm, init = init_mom!(vlmm))"
   ]
  },
  {
   "cell_type": "code",
   "execution_count": 20,
   "metadata": {},
   "outputs": [
    {
     "name": "stdout",
     "output_type": "stream",
     "text": [
      "run = 1, ‖Δβ‖ = 0.337743, ‖Δτ‖ = 0.069850, ‖ΔL‖ = 0.017323, status = Optimal, time(s) = 0.078268\n",
      "run = 2, ‖Δβ‖ = 0.003050, ‖Δτ‖ = 0.004463, ‖ΔL‖ = 0.001185, status = Optimal, time(s) = 0.104889\n"
     ]
    },
    {
     "data": {
      "text/plain": [
       "\n",
       "Within-subject variance estimation by robust regression (WiSER)\n",
       "\n",
       "Mean Formula:\n",
       "sbp ~ 1 + agegroup + gender + bmi_std + meds\n",
       "Random Effects Formula:\n",
       "sbp ~ 1 + bmi_std\n",
       "Within-Subject Variance Formula:\n",
       "sbp ~ 1 + agegroup + meds + bmi_std\n",
       "\n",
       "Number of individuals/clusters: 500\n",
       "Total observations: 5011\n",
       "\n",
       "Fixed-effects parameters:\n",
       "────────────────────────────────────────────────────────────\n",
       "                      Estimate  Std. Error       Z  Pr(>|Z|)\n",
       "────────────────────────────────────────────────────────────\n",
       "β1: (Intercept)   106.309        0.143859   738.98    <1e-99\n",
       "β2: agegroup       14.984        0.0633192  236.64    <1e-99\n",
       "β3: gender: Male   10.0754       0.100275   100.48    <1e-99\n",
       "β4: bmi_std         0.296078     0.0136905   21.63    <1e-99\n",
       "β5: meds: OnMeds  -10.1108       0.122807   -82.33    <1e-99\n",
       "τ1: (Intercept)    -2.52144      0.0576657  -43.73    <1e-99\n",
       "τ2: agegroup        1.50787      0.0253351   59.52    <1e-99\n",
       "τ3: meds: OnMeds   -0.436135     0.0512042   -8.52    <1e-16\n",
       "τ4: bmi_std         0.00525556   0.0214765    0.24    0.8067\n",
       "────────────────────────────────────────────────────────────\n",
       "Random effects covariance matrix Σγ:\n",
       " \"γ1: (Intercept)\"  1.00203    0.0184422\n",
       " \"γ2: bmi_std\"      0.0184422  0.000339423\n",
       "\n"
      ]
     },
     "execution_count": 20,
     "metadata": {},
     "output_type": "execute_result"
    }
   ],
   "source": [
    "# user-supplied starting point in vlmm.β, vlmm.τ, vlmm.Lγ\n",
    "vlmm.β .= [106.0; 15.0; 10.0; 0.3; -10.0]\n",
    "vlmm.τ .= [-2.5; 1.5; -0.5; 0.0]\n",
    "vlmm.Lγ .= [1.0 0.0; 0.0 0.0]\n",
    "\n",
    "fit!(vlmm, init = vlmm)"
   ]
  },
  {
   "cell_type": "markdown",
   "metadata": {},
   "source": [
    "## Additional Features\n",
    "\n",
    "WiSER.jl has additional features that may benefit some users. These include parallelizaiton and observation weights."
   ]
  },
  {
   "cell_type": "markdown",
   "metadata": {},
   "source": [
    "### Parallelization\n",
    "\n",
    "WiSER.jl by default will not run objective function evaluations in parallel, but one at a time. In many cases (small number of individuals/relatively small number of observations per individual) it is faster to not parallelize the code as the internal overhead in setting up evaluations on multiple threads takes longer than the evaluations. However, with large numbers of observations per individual, or many individuals, it can be faster to parallelize."
   ]
  },
  {
   "cell_type": "markdown",
   "metadata": {},
   "source": [
    "In order to allow for parallelization, the julia environmental variable `JULIA_NUM_THREADS` should be set to a value greater than 1. This must be set before julia launches and can be done in couple ways:\n",
    "\n",
    "- Setting a default number of threads for Julia to launch with in a `.bash_profile` file by adding a line `export JULIA_NUM_THREADS=X`. where X is the number of threads you wish to make the default.\n",
    "- Before launching julia in the terminal, export the variable as done below:\n",
    "\n",
    "```\n",
    "$ export JULIA_NUM_THREADS=X\n",
    "$ julia\n",
    "```\n",
    "\n",
    "This is different from the threads available used by BLAS commands. To check this number of threads for parallelization, run the following:"
   ]
  },
  {
   "cell_type": "code",
   "execution_count": 21,
   "metadata": {},
   "outputs": [
    {
     "data": {
      "text/plain": [
       "4"
      ]
     },
     "execution_count": 21,
     "metadata": {},
     "output_type": "execute_result"
    }
   ],
   "source": [
    "Threads.nthreads()"
   ]
  },
  {
   "cell_type": "markdown",
   "metadata": {},
   "source": [
    "We see there are 4 threads available. \n",
    "\n",
    "To parallelize the objective function in WiSER, simply add the keyword argument `parallel = true` in the `fit!()` function."
   ]
  },
  {
   "cell_type": "code",
   "execution_count": 22,
   "metadata": {},
   "outputs": [
    {
     "name": "stdout",
     "output_type": "stream",
     "text": [
      "run = 1, ‖Δβ‖ = 0.037311, ‖Δτ‖ = 0.166678, ‖ΔL‖ = 0.100999, status = Optimal, time(s) = 0.237454\n",
      "run = 2, ‖Δβ‖ = 0.005220, ‖Δτ‖ = 0.006748, ‖ΔL‖ = 0.048735, status = Optimal, time(s) = 0.158717\n"
     ]
    },
    {
     "data": {
      "text/plain": [
       "\n",
       "Within-subject variance estimation by robust regression (WiSER)\n",
       "\n",
       "Mean Formula:\n",
       "sbp ~ 1 + agegroup + gender + bmi_std + meds\n",
       "Random Effects Formula:\n",
       "sbp ~ 1 + bmi_std\n",
       "Within-Subject Variance Formula:\n",
       "sbp ~ 1 + agegroup + meds + bmi_std\n",
       "\n",
       "Number of individuals/clusters: 500\n",
       "Total observations: 5011\n",
       "\n",
       "Fixed-effects parameters:\n",
       "───────────────────────────────────────────────────────────\n",
       "                     Estimate  Std. Error       Z  Pr(>|Z|)\n",
       "───────────────────────────────────────────────────────────\n",
       "β1: (Intercept)   106.308       0.14384    739.07    <1e-99\n",
       "β2: agegroup       14.9844      0.0633245  236.63    <1e-99\n",
       "β3: gender: Male   10.0749      0.100279   100.47    <1e-99\n",
       "β4: bmi_std         0.296424    0.0139071   21.31    <1e-99\n",
       "β5: meds: OnMeds  -10.1107      0.122918   -82.26    <1e-99\n",
       "τ1: (Intercept)    -2.5212      0.393792    -6.40    <1e-09\n",
       "τ2: agegroup        1.50759     0.135456    11.13    <1e-28\n",
       "τ3: meds: OnMeds   -0.435225    0.0621076   -7.01    <1e-11\n",
       "τ4: bmi_std         0.0052695   0.0224039    0.24    0.8140\n",
       "───────────────────────────────────────────────────────────\n",
       "Random effects covariance matrix Σγ:\n",
       " \"γ1: (Intercept)\"  1.00196    0.0181387\n",
       " \"γ2: bmi_std\"      0.0181387  0.000549357\n",
       "\n"
      ]
     },
     "execution_count": 22,
     "metadata": {},
     "output_type": "execute_result"
    }
   ],
   "source": [
    "WiSER.fit!(vlmm, parallel = true)"
   ]
  },
  {
   "cell_type": "markdown",
   "metadata": {},
   "source": [
    "We can see slight timing differences at this sample size:"
   ]
  },
  {
   "cell_type": "code",
   "execution_count": 23,
   "metadata": {},
   "outputs": [
    {
     "name": "stdout",
     "output_type": "stream",
     "text": [
      "run = 1, ‖Δβ‖ = 0.037311, ‖Δτ‖ = 0.166678, ‖ΔL‖ = 0.100999, status = Optimal, time(s) = 0.065098\n",
      "run = 2, ‖Δβ‖ = 0.005220, ‖Δτ‖ = 0.006748, ‖ΔL‖ = 0.048735, status = Optimal, time(s) = 0.070394\n",
      "  0.141617 seconds (417 allocations: 38.531 KiB)\n"
     ]
    }
   ],
   "source": [
    "@time WiSER.fit!(vlmm, parallel = false);"
   ]
  },
  {
   "cell_type": "code",
   "execution_count": 24,
   "metadata": {},
   "outputs": [
    {
     "name": "stdout",
     "output_type": "stream",
     "text": [
      "run = 1, ‖Δβ‖ = 0.037311, ‖Δτ‖ = 0.166678, ‖ΔL‖ = 0.100999, status = Optimal, time(s) = 0.150904\n",
      "run = 2, ‖Δβ‖ = 0.005220, ‖Δτ‖ = 0.006748, ‖ΔL‖ = 0.048735, status = Optimal, time(s) = 0.164348\n",
      "  0.325590 seconds (1.95 k allocations: 174.953 KiB)\n"
     ]
    }
   ],
   "source": [
    "@time WiSER.fit!(vlmm, parallel = true);"
   ]
  },
  {
   "cell_type": "markdown",
   "metadata": {},
   "source": [
    "### Observation Weights\n",
    "\n",
    "It can be useful for some users to fit WiSER with observation weights. We have implemented this feature, which can be done in the model constructor via the `wtvar` keyword. Note: Within each individual, observation weights are the same. We assume weights are per-indiviudal.\n",
    "\n",
    "In the example data, the dataframe has a column `obswt`, corresponding to observation weights for each individual. "
   ]
  },
  {
   "cell_type": "code",
   "execution_count": 25,
   "metadata": {},
   "outputs": [
    {
     "name": "stdout",
     "output_type": "stream",
     "text": [
      "run = 1, ‖Δβ‖ = 0.037311, ‖Δτ‖ = 0.158033, ‖ΔL‖ = 0.102058, status = Optimal, time(s) = 0.062162\n",
      "run = 2, ‖Δβ‖ = 0.006134, ‖Δτ‖ = 0.007594, ‖ΔL‖ = 0.056873, status = Optimal, time(s) = 0.078738\n",
      "  0.146753 seconds (447 allocations: 40.500 KiB)\n"
     ]
    },
    {
     "data": {
      "text/plain": [
       "\n",
       "Within-subject variance estimation by robust regression (WiSER)\n",
       "\n",
       "Mean Formula:\n",
       "sbp ~ 1 + agegroup + gender + bmi_std + meds\n",
       "Random Effects Formula:\n",
       "sbp ~ 1 + bmi_std\n",
       "Within-Subject Variance Formula:\n",
       "sbp ~ 1 + agegroup + meds + bmi_std\n",
       "\n",
       "Number of individuals/clusters: 500\n",
       "Total observations: 5011\n",
       "\n",
       "Fixed-effects parameters:\n",
       "────────────────────────────────────────────────────────────\n",
       "                      Estimate  Std. Error       Z  Pr(>|Z|)\n",
       "────────────────────────────────────────────────────────────\n",
       "β1: (Intercept)   106.309       0.143971    738.41    <1e-99\n",
       "β2: agegroup       14.9841      0.0633336   236.59    <1e-99\n",
       "β3: gender: Male   10.0748      0.100288    100.46    <1e-99\n",
       "β4: bmi_std         0.296066    0.0139064    21.29    <1e-99\n",
       "β5: meds: OnMeds  -10.1101      0.122602    -82.46    <1e-99\n",
       "τ1: (Intercept)    -2.51639     0.267541     -9.41    <1e-20\n",
       "τ2: agegroup        1.50717     0.0914489    16.48    <1e-60\n",
       "τ3: meds: OnMeds   -0.445596    0.0366911   -12.14    <1e-33\n",
       "τ4: bmi_std         0.00634263  0.00812327    0.78    0.4349\n",
       "────────────────────────────────────────────────────────────\n",
       "Random effects covariance matrix Σγ:\n",
       " \"γ1: (Intercept)\"  1.05449    0.0279852\n",
       " \"γ2: bmi_std\"      0.0279852  0.000792437\n",
       "\n"
      ]
     },
     "execution_count": 25,
     "metadata": {},
     "output_type": "execute_result"
    }
   ],
   "source": [
    "vlmm_wts = WSVarLmmModel(\n",
    "    @formula(sbp ~ 1 + agegroup + gender + bmi_std + meds), \n",
    "    @formula(sbp ~ 1 + bmi_std), \n",
    "    @formula(sbp ~ 1 + agegroup + meds + bmi_std),\n",
    "    :id, df; wtvar = :obswt);\n",
    "\n",
    "@time WiSER.fit!(vlmm_wts)"
   ]
  }
 ],
 "metadata": {
  "@webio": {
   "lastCommId": null,
   "lastKernelId": null
  },
  "hide_input": false,
  "kernelspec": {
   "display_name": "Julia 1.6.0",
   "language": "julia",
   "name": "julia-1.6"
  },
  "language_info": {
   "file_extension": ".jl",
   "mimetype": "application/julia",
   "name": "julia",
   "version": "1.6.0"
  },
  "toc": {
   "colors": {
    "hover_highlight": "#DAA520",
    "running_highlight": "#FF0000",
    "selected_highlight": "#FFD700"
   },
   "moveMenuLeft": true,
   "nav_menu": {
    "height": "235.60000610351562px",
    "width": "251.60000610351562px"
   },
   "navigate_menu": true,
   "number_sections": true,
   "sideBar": true,
   "skip_h1_title": true,
   "threshold": 4,
   "toc_cell": false,
   "toc_section_display": "block",
   "toc_window_display": true,
   "widenNotebook": false
  },
  "toc-autonumbering": true
 },
 "nbformat": 4,
 "nbformat_minor": 4
}
