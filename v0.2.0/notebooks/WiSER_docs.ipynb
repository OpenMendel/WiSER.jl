{
 "cells": [
  {
   "cell_type": "markdown",
   "metadata": {},
   "source": [
    "# WiSER.jl\n",
    "\n",
    "`WiSER.jl` implements a regression method for modeling the within-subject variability of a longitudinal measurement. It stands for **wi**thin-**s**ubject variance **e**stimation by robust **r**egression. "
   ]
  },
  {
   "cell_type": "markdown",
   "metadata": {},
   "source": [
    "## Model\n",
    "\n",
    "TODO: don't need to give this much details. Make it clear what kind of problems it solves (a diagram will be perfect) and cite preprint will be enough."
   ]
  },
  {
   "cell_type": "markdown",
   "metadata": {},
   "source": [
    "## Installation"
   ]
  },
  {
   "cell_type": "markdown",
   "metadata": {},
   "source": [
    "This package requires Julia v1.0 or later, which can be obtained from https://julialang.org/downloads/ or by building Julia from the sources in the https://github.com/JuliaLang/julia repository.\n",
    "\n",
    "The package has not yet been registered and must be installed using the repository location. Start Julia and use the ] key to switch to the package manager REPL\n",
    "\n",
    "```{julia}\n",
    "(@v1.4) Pkg> add https://github.com/OpenMendel/WiSER.jl\n",
    "```\n",
    "\n",
    "Use the backspace key to return to the Julia REPL."
   ]
  },
  {
   "cell_type": "code",
   "execution_count": 1,
   "metadata": {},
   "outputs": [],
   "source": [
    "# for this tutorial\n",
    "using CSV, DataFrames, JuliaDB, Random, WiSER"
   ]
  },
  {
   "cell_type": "markdown",
   "metadata": {},
   "source": [
    "## Example data"
   ]
  },
  {
   "cell_type": "markdown",
   "metadata": {},
   "source": [
    "The example dataset, `sbp.csv`, is contained in `data` folder of the package. It is a simulated datatset with 500 individuals, each having 9~11 observations. The outcome, systolic blood pressure (SBP), is a function of other covariates. Below we read in the data as a `DataFrame` using the [CSV package](https://juliadata.github.io/CSV.jl). WiSER.jl can take other data table objects, such as `IndexedTables` from the [JuliaDB](https://github.com/JuliaData/JuliaDB.jl) package."
   ]
  },
  {
   "cell_type": "code",
   "execution_count": 2,
   "metadata": {},
   "outputs": [
    {
     "data": {
      "text/html": [
       "<table class=\"data-frame\"><thead><tr><th></th><th>id</th><th>sbp</th><th>agegroup</th><th>gender</th><th>bmi</th><th>meds</th><th>bmi_std</th></tr><tr><th></th><th>Int64</th><th>Float64</th><th>Float64</th><th>String</th><th>Float64</th><th>String</th><th>Float64</th></tr></thead><tbody><p>5,011 rows × 7 columns</p><tr><th>1</th><td>1</td><td>159.586</td><td>3.0</td><td>Male</td><td>23.1336</td><td>NoMeds</td><td>-1.57733</td></tr><tr><th>2</th><td>1</td><td>161.849</td><td>3.0</td><td>Male</td><td>26.5885</td><td>NoMeds</td><td>1.29927</td></tr><tr><th>3</th><td>1</td><td>160.484</td><td>3.0</td><td>Male</td><td>24.8428</td><td>NoMeds</td><td>-0.154204</td></tr><tr><th>4</th><td>1</td><td>161.134</td><td>3.0</td><td>Male</td><td>24.9289</td><td>NoMeds</td><td>-0.0825105</td></tr><tr><th>5</th><td>1</td><td>165.443</td><td>3.0</td><td>Male</td><td>24.8057</td><td>NoMeds</td><td>-0.185105</td></tr><tr><th>6</th><td>1</td><td>160.053</td><td>3.0</td><td>Male</td><td>24.1583</td><td>NoMeds</td><td>-0.72415</td></tr><tr><th>7</th><td>1</td><td>162.1</td><td>3.0</td><td>Male</td><td>25.2543</td><td>NoMeds</td><td>0.188379</td></tr><tr><th>8</th><td>1</td><td>163.153</td><td>3.0</td><td>Male</td><td>24.3951</td><td>NoMeds</td><td>-0.527037</td></tr><tr><th>9</th><td>1</td><td>166.675</td><td>3.0</td><td>Male</td><td>26.1514</td><td>NoMeds</td><td>0.935336</td></tr><tr><th>10</th><td>2</td><td>130.765</td><td>1.0</td><td>Male</td><td>22.6263</td><td>NoMeds</td><td>-1.99977</td></tr><tr><th>11</th><td>2</td><td>131.044</td><td>1.0</td><td>Male</td><td>24.7404</td><td>NoMeds</td><td>-0.239477</td></tr><tr><th>12</th><td>2</td><td>131.22</td><td>1.0</td><td>Male</td><td>25.3415</td><td>NoMeds</td><td>0.260949</td></tr><tr><th>13</th><td>2</td><td>131.96</td><td>1.0</td><td>Male</td><td>25.6933</td><td>NoMeds</td><td>0.553886</td></tr><tr><th>14</th><td>2</td><td>130.09</td><td>1.0</td><td>Male</td><td>21.7646</td><td>NoMeds</td><td>-2.71724</td></tr><tr><th>15</th><td>2</td><td>130.556</td><td>1.0</td><td>Male</td><td>23.7895</td><td>NoMeds</td><td>-1.03123</td></tr><tr><th>16</th><td>2</td><td>132.001</td><td>1.0</td><td>Male</td><td>26.9103</td><td>NoMeds</td><td>1.56716</td></tr><tr><th>17</th><td>2</td><td>131.879</td><td>1.0</td><td>Male</td><td>24.1153</td><td>NoMeds</td><td>-0.759929</td></tr><tr><th>18</th><td>2</td><td>131.609</td><td>1.0</td><td>Male</td><td>25.3372</td><td>NoMeds</td><td>0.257432</td></tr><tr><th>19</th><td>2</td><td>132.149</td><td>1.0</td><td>Male</td><td>23.7171</td><td>NoMeds</td><td>-1.09154</td></tr><tr><th>20</th><td>2</td><td>130.653</td><td>1.0</td><td>Male</td><td>25.5947</td><td>NoMeds</td><td>0.471793</td></tr><tr><th>21</th><td>3</td><td>145.655</td><td>2.0</td><td>Male</td><td>25.3645</td><td>NoMeds</td><td>0.280102</td></tr><tr><th>22</th><td>3</td><td>147.384</td><td>2.0</td><td>Male</td><td>26.6756</td><td>NoMeds</td><td>1.37179</td></tr><tr><th>23</th><td>3</td><td>146.558</td><td>2.0</td><td>Male</td><td>25.6001</td><td>NoMeds</td><td>0.476309</td></tr><tr><th>24</th><td>3</td><td>146.731</td><td>2.0</td><td>Male</td><td>26.3532</td><td>NoMeds</td><td>1.10337</td></tr><tr><th>25</th><td>3</td><td>143.037</td><td>2.0</td><td>Male</td><td>24.4092</td><td>NoMeds</td><td>-0.515285</td></tr><tr><th>26</th><td>3</td><td>144.845</td><td>2.0</td><td>Male</td><td>25.1193</td><td>NoMeds</td><td>0.075975</td></tr><tr><th>27</th><td>3</td><td>145.366</td><td>2.0</td><td>Male</td><td>25.5029</td><td>NoMeds</td><td>0.395354</td></tr><tr><th>28</th><td>3</td><td>145.506</td><td>2.0</td><td>Male</td><td>25.9668</td><td>NoMeds</td><td>0.781658</td></tr><tr><th>29</th><td>3</td><td>143.155</td><td>2.0</td><td>Male</td><td>24.9327</td><td>NoMeds</td><td>-0.0793522</td></tr><tr><th>30</th><td>3</td><td>146.147</td><td>2.0</td><td>Male</td><td>25.0029</td><td>NoMeds</td><td>-0.020953</td></tr><tr><th>&vellip;</th><td>&vellip;</td><td>&vellip;</td><td>&vellip;</td><td>&vellip;</td><td>&vellip;</td><td>&vellip;</td><td>&vellip;</td></tr></tbody></table>"
      ],
      "text/latex": [
       "\\begin{tabular}{r|ccccccc}\n",
       "\t& id & sbp & agegroup & gender & bmi & meds & bmi\\_std\\\\\n",
       "\t\\hline\n",
       "\t& Int64 & Float64 & Float64 & String & Float64 & String & Float64\\\\\n",
       "\t\\hline\n",
       "\t1 & 1 & 159.586 & 3.0 & Male & 23.1336 & NoMeds & -1.57733 \\\\\n",
       "\t2 & 1 & 161.849 & 3.0 & Male & 26.5885 & NoMeds & 1.29927 \\\\\n",
       "\t3 & 1 & 160.484 & 3.0 & Male & 24.8428 & NoMeds & -0.154204 \\\\\n",
       "\t4 & 1 & 161.134 & 3.0 & Male & 24.9289 & NoMeds & -0.0825105 \\\\\n",
       "\t5 & 1 & 165.443 & 3.0 & Male & 24.8057 & NoMeds & -0.185105 \\\\\n",
       "\t6 & 1 & 160.053 & 3.0 & Male & 24.1583 & NoMeds & -0.72415 \\\\\n",
       "\t7 & 1 & 162.1 & 3.0 & Male & 25.2543 & NoMeds & 0.188379 \\\\\n",
       "\t8 & 1 & 163.153 & 3.0 & Male & 24.3951 & NoMeds & -0.527037 \\\\\n",
       "\t9 & 1 & 166.675 & 3.0 & Male & 26.1514 & NoMeds & 0.935336 \\\\\n",
       "\t10 & 2 & 130.765 & 1.0 & Male & 22.6263 & NoMeds & -1.99977 \\\\\n",
       "\t11 & 2 & 131.044 & 1.0 & Male & 24.7404 & NoMeds & -0.239477 \\\\\n",
       "\t12 & 2 & 131.22 & 1.0 & Male & 25.3415 & NoMeds & 0.260949 \\\\\n",
       "\t13 & 2 & 131.96 & 1.0 & Male & 25.6933 & NoMeds & 0.553886 \\\\\n",
       "\t14 & 2 & 130.09 & 1.0 & Male & 21.7646 & NoMeds & -2.71724 \\\\\n",
       "\t15 & 2 & 130.556 & 1.0 & Male & 23.7895 & NoMeds & -1.03123 \\\\\n",
       "\t16 & 2 & 132.001 & 1.0 & Male & 26.9103 & NoMeds & 1.56716 \\\\\n",
       "\t17 & 2 & 131.879 & 1.0 & Male & 24.1153 & NoMeds & -0.759929 \\\\\n",
       "\t18 & 2 & 131.609 & 1.0 & Male & 25.3372 & NoMeds & 0.257432 \\\\\n",
       "\t19 & 2 & 132.149 & 1.0 & Male & 23.7171 & NoMeds & -1.09154 \\\\\n",
       "\t20 & 2 & 130.653 & 1.0 & Male & 25.5947 & NoMeds & 0.471793 \\\\\n",
       "\t21 & 3 & 145.655 & 2.0 & Male & 25.3645 & NoMeds & 0.280102 \\\\\n",
       "\t22 & 3 & 147.384 & 2.0 & Male & 26.6756 & NoMeds & 1.37179 \\\\\n",
       "\t23 & 3 & 146.558 & 2.0 & Male & 25.6001 & NoMeds & 0.476309 \\\\\n",
       "\t24 & 3 & 146.731 & 2.0 & Male & 26.3532 & NoMeds & 1.10337 \\\\\n",
       "\t25 & 3 & 143.037 & 2.0 & Male & 24.4092 & NoMeds & -0.515285 \\\\\n",
       "\t26 & 3 & 144.845 & 2.0 & Male & 25.1193 & NoMeds & 0.075975 \\\\\n",
       "\t27 & 3 & 145.366 & 2.0 & Male & 25.5029 & NoMeds & 0.395354 \\\\\n",
       "\t28 & 3 & 145.506 & 2.0 & Male & 25.9668 & NoMeds & 0.781658 \\\\\n",
       "\t29 & 3 & 143.155 & 2.0 & Male & 24.9327 & NoMeds & -0.0793522 \\\\\n",
       "\t30 & 3 & 146.147 & 2.0 & Male & 25.0029 & NoMeds & -0.020953 \\\\\n",
       "\t$\\dots$ & $\\dots$ & $\\dots$ & $\\dots$ & $\\dots$ & $\\dots$ & $\\dots$ & $\\dots$ \\\\\n",
       "\\end{tabular}\n"
      ],
      "text/plain": [
       "5011×7 DataFrame\n",
       "│ Row  │ id    │ sbp     │ agegroup │ gender │ bmi     │ meds   │ bmi_std    │\n",
       "│      │ \u001b[90mInt64\u001b[39m │ \u001b[90mFloat64\u001b[39m │ \u001b[90mFloat64\u001b[39m  │ \u001b[90mString\u001b[39m │ \u001b[90mFloat64\u001b[39m │ \u001b[90mString\u001b[39m │ \u001b[90mFloat64\u001b[39m    │\n",
       "├──────┼───────┼─────────┼──────────┼────────┼─────────┼────────┼────────────┤\n",
       "│ 1    │ 1     │ 159.586 │ 3.0      │ Male   │ 23.1336 │ NoMeds │ -1.57733   │\n",
       "│ 2    │ 1     │ 161.849 │ 3.0      │ Male   │ 26.5885 │ NoMeds │ 1.29927    │\n",
       "│ 3    │ 1     │ 160.484 │ 3.0      │ Male   │ 24.8428 │ NoMeds │ -0.154204  │\n",
       "│ 4    │ 1     │ 161.134 │ 3.0      │ Male   │ 24.9289 │ NoMeds │ -0.0825105 │\n",
       "│ 5    │ 1     │ 165.443 │ 3.0      │ Male   │ 24.8057 │ NoMeds │ -0.185105  │\n",
       "│ 6    │ 1     │ 160.053 │ 3.0      │ Male   │ 24.1583 │ NoMeds │ -0.72415   │\n",
       "│ 7    │ 1     │ 162.1   │ 3.0      │ Male   │ 25.2543 │ NoMeds │ 0.188379   │\n",
       "│ 8    │ 1     │ 163.153 │ 3.0      │ Male   │ 24.3951 │ NoMeds │ -0.527037  │\n",
       "│ 9    │ 1     │ 166.675 │ 3.0      │ Male   │ 26.1514 │ NoMeds │ 0.935336   │\n",
       "│ 10   │ 2     │ 130.765 │ 1.0      │ Male   │ 22.6263 │ NoMeds │ -1.99977   │\n",
       "⋮\n",
       "│ 5001 │ 499   │ 152.893 │ 3.0      │ Female │ 24.0633 │ NoMeds │ -0.803273  │\n",
       "│ 5002 │ 499   │ 154.394 │ 3.0      │ Female │ 26.3314 │ NoMeds │ 1.08521    │\n",
       "│ 5003 │ 500   │ 148.485 │ 3.0      │ Female │ 23.2373 │ NoMeds │ -1.49104   │\n",
       "│ 5004 │ 500   │ 149.752 │ 3.0      │ Female │ 22.7247 │ NoMeds │ -1.91781   │\n",
       "│ 5005 │ 500   │ 155.672 │ 3.0      │ Female │ 24.4651 │ NoMeds │ -0.468741  │\n",
       "│ 5006 │ 500   │ 148.389 │ 3.0      │ Female │ 25.8129 │ NoMeds │ 0.653514   │\n",
       "│ 5007 │ 500   │ 152.491 │ 3.0      │ Female │ 24.5818 │ NoMeds │ -0.371555  │\n",
       "│ 5008 │ 500   │ 153.844 │ 3.0      │ Female │ 25.721  │ NoMeds │ 0.57693    │\n",
       "│ 5009 │ 500   │ 150.164 │ 3.0      │ Female │ 24.3545 │ NoMeds │ -0.560843  │\n",
       "│ 5010 │ 500   │ 150.248 │ 3.0      │ Female │ 23.8532 │ NoMeds │ -0.978159  │\n",
       "│ 5011 │ 500   │ 152.433 │ 3.0      │ Female │ 26.1232 │ NoMeds │ 0.911814   │"
      ]
     },
     "execution_count": 2,
     "metadata": {},
     "output_type": "execute_result"
    }
   ],
   "source": [
    "filepath = normpath(joinpath(dirname(pathof(WiSER)), \"../data/\"))\n",
    "df = DataFrame!(CSV.File(filepath * \"sbp.csv\"))"
   ]
  },
  {
   "cell_type": "markdown",
   "metadata": {},
   "source": [
    "## Formulate model"
   ]
  },
  {
   "cell_type": "markdown",
   "metadata": {},
   "source": [
    "First we will create a `WSVarLmmModel` object from the dataframe.\n",
    "\n",
    "The `WSVarLmmModel()` function takes the following arguments: \n",
    "\n",
    "- `meanformula`: the formula for the mean fixed effects β (variables in X matrix).\n",
    "- `reformula`: the formula for the mean random effects γ (variables in Z matrix).\n",
    "- `wsvarformula`: the formula  for the within-subject variance fixed effects τ (variables in W matrix). \n",
    "- `idvar`: the id variable for groupings. \n",
    "- `datatable`: the datatable holding all of the data for the model. Can be a `DataFrame` or various types of tables such as an `IndexedTable`.\n",
    "- `wtvar`: Optional argument of variable name holding subject-level weights in the `datatable`.\n",
    "\n",
    "For documentation of the `WSVarLmmModel` function, type `?WSVarLmmModel` in Julia REPL.\n",
    "```@docs\n",
    "WSVarLmmModel\n",
    "```"
   ]
  },
  {
   "cell_type": "markdown",
   "metadata": {},
   "source": [
    "We will model sbp as a function of age, gender, and bmi_std. `bmi_std` is the centered and scaled `bmi`. The following commands fit the following model:\n",
    "\n",
    "$\\text{sbp}_{ij} = \\beta_0 + \\beta_1 \\text{agegroup}_{ij} + \\beta_2 \\text{gender}_{ij} + \\beta_3 \\text{bmi}_{ij} + \\gamma_{i0} + \\gamma_{i1}\\text{bmi} + \\epsilon_{ij}$\n",
    "\n",
    "$\\epsilon_{ij}$ is distributed with mean 0 variance $\\sigma^2_{\\epsilon_{ij}}$\n",
    "\n",
    "$\\gamma_{i} = (\\gamma_{i0}, \\gamma_{i1})$ has mean **0** and variance $\\Sigma_\\gamma$\n",
    "\n",
    "$\\sigma^2_{\\epsilon_{ij}} = exp(\\tau_0 + \\tau_1 \\text{agegroup}_{ij} + \\tau_2 \\text{gender}_{ij} + \\tau_3 \\text{bmi}_{ij})$"
   ]
  },
  {
   "cell_type": "code",
   "execution_count": 3,
   "metadata": {},
   "outputs": [],
   "source": [
    "vlmm = WSVarLmmModel(\n",
    "    @formula(sbp ~ 1 + agegroup + gender + bmi_std + meds), \n",
    "    @formula(sbp ~ 1 + bmi_std), \n",
    "    @formula(sbp ~ 1 + agegroup + meds + bmi_std),\n",
    "    :id, df);"
   ]
  },
  {
   "cell_type": "markdown",
   "metadata": {},
   "source": [
    "The `vlmm` object has the appropriate data. We can use the `fit!()` function to fit the model."
   ]
  },
  {
   "cell_type": "markdown",
   "metadata": {},
   "source": [
    "## Fit model\n",
    "\n",
    "Main arguments of the `fit!()` function are:\n",
    "* `m::WSVarLmmModel`: The model to fit.\n",
    "* `solver`: Non-linear programming solver to be used.\n",
    "* `runs::Integer`: Number of weighted nonlinear least squares runs. Default is 2.\n",
    "\n",
    "For a complete documentation, type `?WSVarLmmModel` in Julia REPL.\n",
    "```@docs\n",
    "fit!\n",
    "```"
   ]
  },
  {
   "cell_type": "code",
   "execution_count": 4,
   "metadata": {},
   "outputs": [
    {
     "name": "stdout",
     "output_type": "stream",
     "text": [
      "\n",
      "******************************************************************************\n",
      "This program contains Ipopt, a library for large-scale nonlinear optimization.\n",
      " Ipopt is released as open source code under the Eclipse Public License (EPL).\n",
      "         For more information visit http://projects.coin-or.org/Ipopt\n",
      "******************************************************************************\n",
      "\n",
      "run = 1, ‖Δβ‖ = 0.037311, ‖Δτ‖ = 0.166678, ‖ΔL‖ = 0.100999, status = Optimal, time(s) = 0.425396\n",
      "run = 2, ‖Δβ‖ = 0.005220, ‖Δτ‖ = 0.006748, ‖ΔL‖ = 0.048735, status = Optimal, time(s) = 0.354986\n"
     ]
    },
    {
     "data": {
      "text/plain": [
       "\n",
       "Within-subject variance estimation by robust regression (WiSER)\n",
       "Number of individuals/clusters: 500\n",
       "Total observations: 5011\n",
       "\n",
       "Fixed-effects parameters:\n",
       "───────────────────────────────────────────────────────────\n",
       "                     Estimate  Std. Error       Z  Pr(>|Z|)\n",
       "───────────────────────────────────────────────────────────\n",
       "β1: (Intercept)   106.308       0.14384    739.07    <1e-99\n",
       "β2: agegroup       14.9844      0.0633245  236.63    <1e-99\n",
       "β3: gender: Male   10.0749      0.100279   100.47    <1e-99\n",
       "β4: bmi_std         0.296424    0.0139071   21.31    <1e-99\n",
       "β5: meds: OnMeds  -10.1107      0.122918   -82.26    <1e-99\n",
       "τ1: (Intercept)    -2.5212      0.393792    -6.40    <1e-9\n",
       "τ2: agegroup        1.50759     0.135456    11.13    <1e-28\n",
       "τ3: meds: OnMeds   -0.435225    0.0621076   -7.01    <1e-11\n",
       "τ4: bmi_std         0.0052695   0.0224039    0.24    0.8140\n",
       "───────────────────────────────────────────────────────────\n",
       "Random effects covariance matrix Σγ:\n",
       " \"γ1: (Intercept)\"  1.00196    0.0181387\n",
       " \"γ2: bmi_std\"      0.0181387  0.000549357\n",
       "\n"
      ]
     },
     "execution_count": 4,
     "metadata": {},
     "output_type": "execute_result"
    }
   ],
   "source": [
    "WiSER.fit!(vlmm)"
   ]
  },
  {
   "cell_type": "markdown",
   "metadata": {},
   "source": [
    "The estimated coefficients and random effects covariance parameters can be retrieved by"
   ]
  },
  {
   "cell_type": "code",
   "execution_count": 5,
   "metadata": {},
   "outputs": [
    {
     "data": {
      "text/plain": [
       "9-element Array{Float64,1}:\n",
       " 106.30828661757685\n",
       "  14.984423626292854\n",
       "  10.074886642511625\n",
       "   0.2964238570056824\n",
       " -10.110677648545206\n",
       "  -2.5211956122809442\n",
       "   1.5075882029978345\n",
       "  -0.4352249760976689\n",
       "   0.00526950183272128"
      ]
     },
     "execution_count": 5,
     "metadata": {},
     "output_type": "execute_result"
    }
   ],
   "source": [
    "coef(vlmm)"
   ]
  },
  {
   "cell_type": "markdown",
   "metadata": {},
   "source": [
    "or individually"
   ]
  },
  {
   "cell_type": "code",
   "execution_count": 6,
   "metadata": {},
   "outputs": [
    {
     "data": {
      "text/plain": [
       "5-element Array{Float64,1}:\n",
       " 106.30828661757685\n",
       "  14.984423626292854\n",
       "  10.074886642511625\n",
       "   0.2964238570056824\n",
       " -10.110677648545206"
      ]
     },
     "execution_count": 6,
     "metadata": {},
     "output_type": "execute_result"
    }
   ],
   "source": [
    "vlmm.β"
   ]
  },
  {
   "cell_type": "code",
   "execution_count": 7,
   "metadata": {},
   "outputs": [
    {
     "data": {
      "text/plain": [
       "4-element Array{Float64,1}:\n",
       " -2.5211956122809442\n",
       "  1.5075882029978345\n",
       " -0.4352249760976689\n",
       "  0.00526950183272128"
      ]
     },
     "execution_count": 7,
     "metadata": {},
     "output_type": "execute_result"
    }
   ],
   "source": [
    "vlmm.τ"
   ]
  },
  {
   "cell_type": "code",
   "execution_count": 8,
   "metadata": {},
   "outputs": [
    {
     "data": {
      "text/plain": [
       "2×2 Array{Float64,2}:\n",
       " 1.00196    0.0181387\n",
       " 0.0181387  0.000549357"
      ]
     },
     "execution_count": 8,
     "metadata": {},
     "output_type": "execute_result"
    }
   ],
   "source": [
    "vlmm.Σγ"
   ]
  },
  {
   "cell_type": "markdown",
   "metadata": {},
   "source": [
    "The variance-covariance matrix of the estimated parameters (β, τ, Lγ) can be rerieved by"
   ]
  },
  {
   "cell_type": "code",
   "execution_count": 9,
   "metadata": {},
   "outputs": [
    {
     "data": {
      "text/plain": [
       "12×12 Array{Float64,2}:\n",
       "  0.0206899    -0.00753187   -0.00618382   …  -0.000123531   0.0644858\n",
       " -0.00753187    0.00400999    0.000152994      4.07896e-5   -0.0194226\n",
       " -0.00618382    0.000152994   0.0100558        4.35497e-5   -0.0299542\n",
       "  5.60981e-5   -4.80751e-5    0.000108448      8.06623e-6    0.00149567\n",
       " -0.00311952   -0.000362412   0.00122535      -7.1571e-5     0.0168424\n",
       " -0.00652959    0.00207365    0.00276734   …   0.00217472   -1.70443\n",
       "  0.00229271   -0.000743467  -0.000951293     -0.000740359   0.58213\n",
       " -0.000719608   0.000263081   0.000294779      0.000197117  -0.152908\n",
       "  3.10756e-5    1.70391e-5   -0.00011849      -5.50781e-5    0.0266044\n",
       "  0.000166021  -3.24178e-6   -0.00011537       9.0954e-6    -0.00139559\n",
       " -0.000123531   4.07896e-5    4.35497e-5   …   7.84536e-5   -0.0244586\n",
       "  0.0644858    -0.0194226    -0.0299542       -0.0244586    19.1312"
      ]
     },
     "execution_count": 9,
     "metadata": {},
     "output_type": "execute_result"
    }
   ],
   "source": [
    "vlmm.vcov"
   ]
  },
  {
   "cell_type": "markdown",
   "metadata": {},
   "source": [
    "## Tips for improving estimation\n",
    "\n",
    "`fit!` may fail due to various reasons. Often it indicates ill-conditioned data or an inadequate model. Following strategies may improve the fit. "
   ]
  },
  {
   "cell_type": "markdown",
   "metadata": {},
   "source": [
    "### Standardize continuous predictors\n",
    "\n",
    "In above example, we used the standardardized `bmi`. If we used the original `bmi` variable, the estimates of τ are instable, reflected by the large standard errors."
   ]
  },
  {
   "cell_type": "code",
   "execution_count": 10,
   "metadata": {},
   "outputs": [
    {
     "name": "stdout",
     "output_type": "stream",
     "text": [
      "run = 1, ‖Δβ‖ = 0.208950, ‖Δτ‖ = 0.445610, ‖ΔL‖ = 2.027674, status = Optimal, time(s) = 0.876796\n",
      "run = 2, ‖Δβ‖ = 0.032012, ‖Δτ‖ = 0.014061, ‖ΔL‖ = 0.780198, status = Optimal, time(s) = 0.987205\n"
     ]
    },
    {
     "data": {
      "text/plain": [
       "\n",
       "Within-subject variance estimation by robust regression (WiSER)\n",
       "Number of individuals/clusters: 500\n",
       "Total observations: 5011\n",
       "\n",
       "Fixed-effects parameters:\n",
       "────────────────────────────────────────────────────────────\n",
       "                      Estimate  Std. Error       Z  Pr(>|Z|)\n",
       "────────────────────────────────────────────────────────────\n",
       "β1: (Intercept)   100.131        0.319906   313.00    <1e-99\n",
       "β2: agegroup       14.9844       0.0633245  236.63    <1e-99\n",
       "β3: gender: Male   10.0749       0.100279   100.47    <1e-99\n",
       "β4: bmi             0.246808     0.0115793   21.31    <1e-99\n",
       "β5: meds: OnMeds  -10.1107       0.122918   -82.26    <1e-99\n",
       "τ1: (Intercept)    -2.63101     17.2804      -0.15    0.8790\n",
       "τ2: agegroup        1.50759      5.69286      0.26    0.7911\n",
       "τ3: meds: OnMeds   -0.435225     1.37021     -0.32    0.7508\n",
       "τ4: bmi             0.00438748   0.0281074    0.16    0.8760\n",
       "────────────────────────────────────────────────────────────\n",
       "Random effects covariance matrix Σγ:\n",
       " \"γ1: (Intercept)\"  0.484542    0.00557087\n",
       " \"γ2: bmi\"          0.00557087  0.000380843\n",
       "\n"
      ]
     },
     "execution_count": 10,
     "metadata": {},
     "output_type": "execute_result"
    }
   ],
   "source": [
    "# using unscaled bmi causes ill-conditioning\n",
    "vlmm_bmi = WSVarLmmModel(\n",
    "    @formula(sbp ~ 1 + agegroup + gender + bmi + meds), \n",
    "    @formula(sbp ~ 1 + bmi), \n",
    "    @formula(sbp ~ 1 + agegroup + meds + bmi),\n",
    "    :id, df);\n",
    "WiSER.fit!(vlmm_bmi)"
   ]
  },
  {
   "cell_type": "markdown",
   "metadata": {},
   "source": [
    "### Increase `runs`\n",
    "\n",
    "Increasing `runs` (default is 2) takes more computing resources but can be useful to get more precise estimates. If we set `runs=3` when using original `bmi` (ill-conditioned), the estimated τ are more accurate. The estimate of Σγ is still off though."
   ]
  },
  {
   "cell_type": "code",
   "execution_count": 11,
   "metadata": {},
   "outputs": [
    {
     "name": "stdout",
     "output_type": "stream",
     "text": [
      "run = 1, ‖Δβ‖ = 0.208950, ‖Δτ‖ = 0.445610, ‖ΔL‖ = 2.027674, status = Optimal, time(s) = 0.850399\n",
      "run = 2, ‖Δβ‖ = 0.032012, ‖Δτ‖ = 0.014061, ‖ΔL‖ = 0.780198, status = Optimal, time(s) = 1.060520\n",
      "run = 3, ‖Δβ‖ = 0.008059, ‖Δτ‖ = 0.099534, ‖ΔL‖ = 0.696869, status = Optimal, time(s) = 1.127406\n"
     ]
    },
    {
     "data": {
      "text/plain": [
       "\n",
       "Within-subject variance estimation by robust regression (WiSER)\n",
       "Number of individuals/clusters: 500\n",
       "Total observations: 5011\n",
       "\n",
       "Fixed-effects parameters:\n",
       "─────────────────────────────────────────────────────────────\n",
       "                       Estimate  Std. Error       Z  Pr(>|Z|)\n",
       "─────────────────────────────────────────────────────────────\n",
       "β1: (Intercept)   100.139         0.315745   317.15    <1e-99\n",
       "β2: agegroup       14.9839        0.0633172  236.65    <1e-99\n",
       "β3: gender: Male   10.0753        0.10027    100.48    <1e-99\n",
       "β4: bmi             0.246528      0.0114083   21.61    <1e-99\n",
       "β5: meds: OnMeds  -10.1109        0.122778   -82.35    <1e-99\n",
       "τ1: (Intercept)    -2.53158       0.866855    -2.92    0.0035\n",
       "τ2: agegroup        1.50917       0.031734    47.56    <1e-99\n",
       "τ3: meds: OnMeds   -0.436745      0.0513571   -8.50    <1e-16\n",
       "τ4: bmi             0.000277851   0.0363866    0.01    0.9939\n",
       "─────────────────────────────────────────────────────────────\n",
       "Random effects covariance matrix Σγ:\n",
       " \"γ1: (Intercept)\"  3.48717e-48  7.26846e-26\n",
       " \"γ2: bmi\"          7.26846e-26  0.00155716\n",
       "\n"
      ]
     },
     "execution_count": 11,
     "metadata": {},
     "output_type": "execute_result"
    }
   ],
   "source": [
    "# improve estimates from ill-conditioned data by more runs\n",
    "WiSER.fit!(vlmm_bmi, runs=3)"
   ]
  },
  {
   "cell_type": "markdown",
   "metadata": {},
   "source": [
    "### Try different nonlinear programming (NLP) solvers \n",
    "\n",
    "A different solver may remedy the issue. By default, `WiSER.jl` uses the [Ipopt](https://github.com/jump-dev/Ipopt.jl) solver, but it can use any solver that supports [MathProgBase.jl](https://github.com/JuliaOpt/MathProgBase.jl). Check documentation of `fit!` for commonly used NLP solvers. In our experience, [Knitro.jl](https://github.com/JuliaOpt/KNITRO.jl) works the best, but it is a commercial software."
   ]
  },
  {
   "cell_type": "code",
   "execution_count": 12,
   "metadata": {},
   "outputs": [
    {
     "name": "stdout",
     "output_type": "stream",
     "text": [
      "This is Ipopt version 3.13.2, running with linear solver mumps.\n",
      "NOTE: Other linear solvers might be more efficient (see Ipopt documentation).\n",
      "\n",
      "Number of nonzeros in equality constraint Jacobian...:        0\n",
      "Number of nonzeros in inequality constraint Jacobian.:        0\n",
      "Number of nonzeros in Lagrangian Hessian.............:       28\n",
      "\n",
      "Total number of variables............................:        7\n",
      "                     variables with only lower bounds:        0\n",
      "                variables with lower and upper bounds:        0\n",
      "                     variables with only upper bounds:        0\n",
      "Total number of equality constraints.................:        0\n",
      "Total number of inequality constraints...............:        0\n",
      "        inequality constraints with only lower bounds:        0\n",
      "   inequality constraints with lower and upper bounds:        0\n",
      "        inequality constraints with only upper bounds:        0\n",
      "\n",
      "iter    objective    inf_pr   inf_du lg(mu)  ||d||  lg(rg) alpha_du alpha_pr  ls\n",
      "   0  5.6575142e+04 0.00e+00 5.30e+04   0.0 0.00e+00    -  0.00e+00 0.00e+00   0\n",
      "   1  3.4931954e+04 0.00e+00 1.43e+04 -11.0 2.07e+00    -  1.00e+00 1.00e+00f  1\n",
      "   2  3.0285692e+04 0.00e+00 4.18e+03 -11.0 5.46e-01    -  1.00e+00 1.00e+00f  1\n",
      "   3  2.9124181e+04 0.00e+00 1.87e+03 -11.0 2.78e-01    -  1.00e+00 1.00e+00f  1\n",
      "   4  2.8571986e+04 0.00e+00 6.41e+02 -11.0 2.38e-01    -  1.00e+00 1.00e+00f  1\n",
      "   5  2.8379415e+04 0.00e+00 1.62e+02 -11.0 2.91e-01    -  1.00e+00 1.00e+00f  1\n",
      "   6  2.8328064e+04 0.00e+00 4.31e+01 -11.0 3.09e-01    -  1.00e+00 1.00e+00f  1\n",
      "   7  2.8315452e+04 0.00e+00 1.13e+01 -11.0 3.02e-01    -  1.00e+00 1.00e+00f  1\n",
      "   8  2.8312446e+04 0.00e+00 4.59e+00 -11.0 2.76e-01    -  1.00e+00 1.00e+00f  1\n",
      "   9  2.8311807e+04 0.00e+00 1.87e+00 -11.0 2.28e-01    -  1.00e+00 1.00e+00f  1\n",
      "iter    objective    inf_pr   inf_du lg(mu)  ||d||  lg(rg) alpha_du alpha_pr  ls\n",
      "  10  2.8311705e+04 0.00e+00 5.50e-01 -11.0 1.52e-01    -  1.00e+00 1.00e+00f  1\n",
      "  11  2.8311697e+04 0.00e+00 7.11e-02 -11.0 6.21e-02    -  1.00e+00 1.00e+00f  1\n",
      "  12  2.8311697e+04 0.00e+00 1.34e-03 -11.0 8.86e-03    -  1.00e+00 1.00e+00f  1\n",
      "  13  2.8311697e+04 0.00e+00 1.53e-05 -11.0 1.62e-04    -  1.00e+00 1.00e+00f  1\n",
      "  14  2.8311697e+04 0.00e+00 2.18e-07 -11.0 8.29e-08    -  1.00e+00 1.00e+00f  1\n",
      "  15  2.8311697e+04 0.00e+00 1.13e-08 -11.0 3.75e-10    -  1.00e+00 1.00e+00f  1\n",
      "  16  2.8311697e+04 0.00e+00 3.05e-10 -11.0 2.12e-11    -  1.00e+00 1.00e+00f  1\n",
      "\n",
      "Number of Iterations....: 16\n",
      "\n",
      "                                   (scaled)                 (unscaled)\n",
      "Objective...............:   1.6226171160601305e+04    2.8311697021847409e+04\n",
      "Dual infeasibility......:   3.0454227901697596e-10    5.3137050315399392e-10\n",
      "Constraint violation....:   0.0000000000000000e+00    0.0000000000000000e+00\n",
      "Complementarity.........:   0.0000000000000000e+00    0.0000000000000000e+00\n",
      "Overall NLP error.......:   3.0454227901697596e-10    5.3137050315399392e-10\n",
      "\n",
      "\n",
      "Number of objective function evaluations             = 17\n",
      "Number of objective gradient evaluations             = 17\n",
      "Number of equality constraint evaluations            = 0\n",
      "Number of inequality constraint evaluations          = 0\n",
      "Number of equality constraint Jacobian evaluations   = 0\n",
      "Number of inequality constraint Jacobian evaluations = 0\n",
      "Number of Lagrangian Hessian evaluations             = 16\n",
      "Total CPU secs in IPOPT (w/o function evaluations)   =      0.031\n",
      "Total CPU secs in NLP function evaluations           =      0.346\n",
      "\n",
      "EXIT: Optimal Solution Found.\n",
      "run = 1, ‖Δβ‖ = 0.037311, ‖Δτ‖ = 0.166678, ‖ΔL‖ = 0.100999, status = Optimal, time(s) = 0.330199\n",
      "This is Ipopt version 3.13.2, running with linear solver mumps.\n",
      "NOTE: Other linear solvers might be more efficient (see Ipopt documentation).\n",
      "\n",
      "Number of nonzeros in equality constraint Jacobian...:        0\n",
      "Number of nonzeros in inequality constraint Jacobian.:        0\n",
      "Number of nonzeros in Lagrangian Hessian.............:       28\n",
      "\n",
      "Total number of variables............................:        7\n",
      "                     variables with only lower bounds:        0\n",
      "                variables with lower and upper bounds:        0\n",
      "                     variables with only upper bounds:        0\n",
      "Total number of equality constraints.................:        0\n",
      "Total number of inequality constraints...............:        0\n",
      "        inequality constraints with only lower bounds:        0\n",
      "   inequality constraints with lower and upper bounds:        0\n",
      "        inequality constraints with only upper bounds:        0\n",
      "\n",
      "iter    objective    inf_pr   inf_du lg(mu)  ||d||  lg(rg) alpha_du alpha_pr  ls\n",
      "   0  8.8973092e+04 0.00e+00 2.21e+05   0.0 0.00e+00    -  0.00e+00 0.00e+00   0\n",
      "   1  4.3429572e+04 0.00e+00 6.17e+04 -11.0 2.38e+00    -  1.00e+00 1.00e+00f  1\n",
      "   2  4.2299630e+04 0.00e+00 5.28e+04 -11.0 5.57e-01    -  1.00e+00 1.00e+00f  1\n",
      "   3  3.2423451e+04 0.00e+00 1.96e+04 -11.0 5.34e-01    -  1.00e+00 1.00e+00f  1\n",
      "   4  2.8893365e+04 0.00e+00 6.24e+03 -11.0 2.85e-01    -  1.00e+00 1.00e+00f  1\n",
      "   5  2.7767774e+04 0.00e+00 2.56e+03 -11.0 2.67e-01    -  1.00e+00 1.00e+00f  1\n",
      "   6  2.7349272e+04 0.00e+00 8.84e+02 -11.0 2.79e-01    -  1.00e+00 1.00e+00f  1\n",
      "   7  2.7218041e+04 0.00e+00 2.32e+02 -11.0 3.08e-01    -  1.00e+00 1.00e+00f  1\n",
      "   8  2.7182533e+04 0.00e+00 5.14e+01 -11.0 3.24e-01    -  1.00e+00 1.00e+00f  1\n",
      "   9  2.7173294e+04 0.00e+00 1.62e+01 -11.0 3.27e-01    -  1.00e+00 1.00e+00f  1\n",
      "iter    objective    inf_pr   inf_du lg(mu)  ||d||  lg(rg) alpha_du alpha_pr  ls\n",
      "  10  2.7170863e+04 0.00e+00 8.25e+00 -11.0 3.25e-01    -  1.00e+00 1.00e+00f  1\n",
      "  11  2.7170227e+04 0.00e+00 4.19e+00 -11.0 3.19e-01    -  1.00e+00 1.00e+00f  1\n",
      "  12  2.7170063e+04 0.00e+00 2.08e+00 -11.0 3.09e-01    -  1.00e+00 1.00e+00f  1\n",
      "  13  2.7170022e+04 0.00e+00 9.97e-01 -11.0 2.89e-01    -  1.00e+00 1.00e+00f  1\n",
      "  14  2.7170013e+04 0.00e+00 4.38e-01 -11.0 2.53e-01    -  1.00e+00 1.00e+00f  1\n",
      "  15  2.7170011e+04 0.00e+00 1.56e-01 -11.0 1.91e-01    -  1.00e+00 1.00e+00f  1\n",
      "  16  2.7170011e+04 0.00e+00 3.31e-02 -11.0 1.04e-01    -  1.00e+00 1.00e+00f  1\n",
      "  17  2.7170011e+04 0.00e+00 1.88e-03 -11.0 2.70e-02    -  1.00e+00 1.00e+00f  1\n",
      "  18  2.7170011e+04 0.00e+00 1.49e-05 -11.0 1.57e-03    -  1.00e+00 1.00e+00f  1\n",
      "  19  2.7170011e+04 0.00e+00 5.09e-07 -11.0 5.31e-06    -  1.00e+00 1.00e+00f  1\n",
      "iter    objective    inf_pr   inf_du lg(mu)  ||d||  lg(rg) alpha_du alpha_pr  ls\n",
      "  20  2.7170011e+04 0.00e+00 9.99e-09 -11.0 1.26e-08    -  1.00e+00 1.00e+00f  1\n",
      "\n",
      "Number of Iterations....: 20\n",
      "\n",
      "                                   (scaled)                 (unscaled)\n",
      "Objective...............:   2.7170011141753250e+04    2.7170011141753250e+04\n",
      "Dual infeasibility......:   9.9916355189577644e-09    9.9916355189577644e-09\n",
      "Constraint violation....:   0.0000000000000000e+00    0.0000000000000000e+00\n",
      "Complementarity.........:   0.0000000000000000e+00    0.0000000000000000e+00\n",
      "Overall NLP error.......:   9.9916355189577644e-09    9.9916355189577644e-09\n",
      "\n",
      "\n",
      "Number of objective function evaluations             = 21\n",
      "Number of objective gradient evaluations             = 21\n",
      "Number of equality constraint evaluations            = 0\n",
      "Number of inequality constraint evaluations          = 0\n",
      "Number of equality constraint Jacobian evaluations   = 0\n",
      "Number of inequality constraint Jacobian evaluations = 0\n",
      "Number of Lagrangian Hessian evaluations             = 20\n",
      "Total CPU secs in IPOPT (w/o function evaluations)   =      0.020\n",
      "Total CPU secs in NLP function evaluations           =      0.358\n",
      "\n",
      "EXIT: Optimal Solution Found.\n",
      "run = 2, ‖Δβ‖ = 0.005220, ‖Δτ‖ = 0.006748, ‖ΔL‖ = 0.048735, status = Optimal, time(s) = 0.384719\n"
     ]
    },
    {
     "data": {
      "text/plain": [
       "\n",
       "Within-subject variance estimation by robust regression (WiSER)\n",
       "Number of individuals/clusters: 500\n",
       "Total observations: 5011\n",
       "\n",
       "Fixed-effects parameters:\n",
       "───────────────────────────────────────────────────────────\n",
       "                     Estimate  Std. Error       Z  Pr(>|Z|)\n",
       "───────────────────────────────────────────────────────────\n",
       "β1: (Intercept)   106.308       0.14384    739.07    <1e-99\n",
       "β2: agegroup       14.9844      0.0633245  236.63    <1e-99\n",
       "β3: gender: Male   10.0749      0.100279   100.47    <1e-99\n",
       "β4: bmi_std         0.296424    0.0139071   21.31    <1e-99\n",
       "β5: meds: OnMeds  -10.1107      0.122918   -82.26    <1e-99\n",
       "τ1: (Intercept)    -2.5212      0.393792    -6.40    <1e-9\n",
       "τ2: agegroup        1.50759     0.135456    11.13    <1e-28\n",
       "τ3: meds: OnMeds   -0.435225    0.0621076   -7.01    <1e-11\n",
       "τ4: bmi_std         0.0052695   0.0224039    0.24    0.8140\n",
       "───────────────────────────────────────────────────────────\n",
       "Random effects covariance matrix Σγ:\n",
       " \"γ1: (Intercept)\"  1.00196    0.0181387\n",
       " \"γ2: bmi_std\"      0.0181387  0.000549357\n",
       "\n"
      ]
     },
     "execution_count": 12,
     "metadata": {},
     "output_type": "execute_result"
    }
   ],
   "source": [
    "# print Ipopt iterates for diagnostics\n",
    "WiSER.fit!(vlmm, Ipopt.IpoptSolver(print_level=5, mehrotra_algorithm=\"yes\"))"
   ]
  },
  {
   "cell_type": "code",
   "execution_count": 13,
   "metadata": {},
   "outputs": [],
   "source": [
    "# use Knitro (require installation of Knitro software and Knitro.jl)\n",
    "# Using KNITRO\n",
    "# WiSER.fit!(vlmm, KNITRO.KnitroSolver(outlev=3));"
   ]
  },
  {
   "cell_type": "code",
   "execution_count": 14,
   "metadata": {},
   "outputs": [
    {
     "name": "stdout",
     "output_type": "stream",
     "text": [
      "run = 1, ‖Δβ‖ = 0.037311, ‖Δτ‖ = 0.162196, ‖ΔL‖ = 0.100050, status = Optimal, time(s) = 0.571036\n",
      "run = 2, ‖Δβ‖ = 0.005248, ‖Δτ‖ = 0.008742, ‖ΔL‖ = 0.001334, status = Optimal, time(s) = 0.185684\n"
     ]
    },
    {
     "data": {
      "text/plain": [
       "\n",
       "Within-subject variance estimation by robust regression (WiSER)\n",
       "Number of individuals/clusters: 500\n",
       "Total observations: 5011\n",
       "\n",
       "Fixed-effects parameters:\n",
       "────────────────────────────────────────────────────────────\n",
       "                      Estimate  Std. Error       Z  Pr(>|Z|)\n",
       "────────────────────────────────────────────────────────────\n",
       "β1: (Intercept)   106.308        0.14384    739.07    <1e-99\n",
       "β2: agegroup       14.9844       0.0633238  236.63    <1e-99\n",
       "β3: gender: Male   10.0749       0.100277   100.47    <1e-99\n",
       "β4: bmi_std         0.296421     0.0139114   21.31    <1e-99\n",
       "β5: meds: OnMeds  -10.1106       0.122912   -82.26    <1e-99\n",
       "τ1: (Intercept)    -2.53263      0.102706   -24.66    <1e-99\n",
       "τ2: agegroup        1.51161      0.0388869   38.87    <1e-99\n",
       "τ3: meds: OnMeds   -0.435897     0.0524849   -8.31    <1e-16\n",
       "τ4: bmi_std         0.00576945   0.0218517    0.26    0.7918\n",
       "────────────────────────────────────────────────────────────\n",
       "Random effects covariance matrix Σγ:\n",
       " \"γ1: (Intercept)\"  1.00228    0.0179118\n",
       " \"γ2: bmi_std\"      0.0179118  0.00441753\n",
       "\n"
      ]
     },
     "execution_count": 14,
     "metadata": {},
     "output_type": "execute_result"
    }
   ],
   "source": [
    "# use NLopt\n",
    "WiSER.fit!(vlmm, NLopt.NLoptSolver(algorithm=:LD_MMA, maxeval=4000))"
   ]
  },
  {
   "cell_type": "markdown",
   "metadata": {},
   "source": [
    "### Try different starting points\n",
    "\n",
    "Initialization matters as well. By default, `fit!` uses a crude least squares estimate as the starting point. We can also try a method of moment estimate or user-supplied values."
   ]
  },
  {
   "cell_type": "code",
   "execution_count": 15,
   "metadata": {},
   "outputs": [
    {
     "name": "stdout",
     "output_type": "stream",
     "text": [
      "run = 1, ‖Δβ‖ = 0.036245, ‖Δτ‖ = 0.188207, ‖ΔL‖ = 0.127483, status = Optimal, time(s) = 0.256069\n",
      "run = 2, ‖Δβ‖ = 0.006798, ‖Δτ‖ = 0.009128, ‖ΔL‖ = 0.050049, status = Optimal, time(s) = 0.340028\n"
     ]
    },
    {
     "data": {
      "text/plain": [
       "\n",
       "Within-subject variance estimation by robust regression (WiSER)\n",
       "Number of individuals/clusters: 500\n",
       "Total observations: 5011\n",
       "\n",
       "Fixed-effects parameters:\n",
       "────────────────────────────────────────────────────────────\n",
       "                      Estimate  Std. Error       Z  Pr(>|Z|)\n",
       "────────────────────────────────────────────────────────────\n",
       "β1: (Intercept)   106.308        0.143831   739.12    <1e-99\n",
       "β2: agegroup       14.9846       0.063327   236.62    <1e-99\n",
       "β3: gender: Male   10.0747       0.100282   100.46    <1e-99\n",
       "β4: bmi_std         0.296596     0.013989    21.20    <1e-99\n",
       "β5: meds: OnMeds  -10.1107       0.122973   -82.22    <1e-99\n",
       "τ1: (Intercept)    -2.52233      0.218068   -11.57    <1e-30\n",
       "τ2: agegroup        1.5079       0.0759423   19.86    <1e-87\n",
       "τ3: meds: OnMeds   -0.434951     0.0549139   -7.92    <1e-14\n",
       "τ4: bmi_std         0.00527178   0.0220323    0.24    0.8109\n",
       "────────────────────────────────────────────────────────────\n",
       "Random effects covariance matrix Σγ:\n",
       " \"γ1: (Intercept)\"  1.00193    0.0180064\n",
       " \"γ2: bmi_std\"      0.0180064  0.000967577\n",
       "\n"
      ]
     },
     "execution_count": 15,
     "metadata": {},
     "output_type": "execute_result"
    }
   ],
   "source": [
    "# MoM starting point\n",
    "WiSER.fit!(vlmm, init = init_mom!(vlmm))"
   ]
  },
  {
   "cell_type": "code",
   "execution_count": 16,
   "metadata": {},
   "outputs": [],
   "source": [
    "# user-supplied starting point in vlmm.β, vlmm.τ, vlmm.Lγ\n",
    "# WiSER.fit!(vlmm, init = vlmm)"
   ]
  },
  {
   "cell_type": "markdown",
   "metadata": {},
   "source": [
    "## Simulating responses\n",
    "\n",
    "The `rvarlmm()` and `rvarlmm!()` functions can be used to generate a respone from user-supplied data and parameters. The `rand!()` command can be used to overwrite the response in a VarLmmModel object based on the parameters and optional user-supplied distribution.   \n",
    "\n",
    "The `rand!(m::WSVarLmmModel; respdist = MvNormal, γωdist = MvNormal, Σγω = [], kwargs...)` function replaces the responses `m.data[i].y` with a simulated response based on:\n",
    "\n",
    "- The data in the model object's data `X, Z, W` matrices. \n",
    "- The parameter values in the model.\n",
    "- The condistribution distribution of the response given the random effects.\n",
    "- The distribution of the random effects.\n",
    "- If simulating from MvTDistribution, you must specify the degrees of freedom via `df = x`.\n",
    "\n",
    "The `rvarlmm()` takes arrays of matricies of the data in addition to the reponse. It generates a simulated response from the VarLMM model based on:\n",
    "- `Xs`: array of each clusters `X`: mean fixed effects covariates\n",
    "- `Zs`: array of each clusters `Z`: random location effects covariates\n",
    "- `Ws`: array of each clusters `W`: within-subject variance fixed effects covariates\n",
    "- `β`: mean fixed effects vector\n",
    "- `τ`: within-subject variance fixed effects vector\n",
    "- `respdist`: the distribution for response. Default is MvNormal. \n",
    "- `Σγ`: random location effects covariance matrix. \n",
    "- `Σγω`: joint random location and random scale effects covariance matrix (if generating from full model).\n",
    "- If simulating from MvTDistribution, you must specify the degrees of freedom via `df = x`.\n",
    "\n",
    "\n",
    "The `rvarlmm!()` function can be used to generate a simulated response from the VarLMM model based on a datatable and place the generated response into the datatable with the `respname` field. \n",
    "\n",
    "Note: **the datatable MUST be ordered by grouping variable for it to generate in the correct order.**\n",
    "This can be checked via `datatable == sort(datatable, idvar)`. The response is based on:\n",
    "\n",
    "- `meanformula`: represents the formula for the mean fixed effects `β` (variables in X matrix)\n",
    "- `reformula`: represents the formula for the mean random effects γ (variables in Z matrix)\n",
    "- `wsvarformula`: represents the formula for the within-subject variance fixed effects τ (variables in W matrix)\n",
    "- `idvar`: the id variable for groupings.\n",
    "- `datatable`: the data table holding all of the data for the model. For this function it **must be in order**.\n",
    "- `β`: mean fixed effects vector\n",
    "- `τ`: within-subject variance fixed effects vector\n",
    "- `respdist`: the distribution for response. Default is MvNormal. \n",
    "- `Σγ`: random location effects covariance matrix. \n",
    "- `Σγω`: joint random location and random scale effects covariance matrix (if generating from full model)\n",
    "- `respname`: symbol representing the simulated response variable name.\n",
    "- If simulating from MvTDistribution, you must specify the degrees of freedom via `df = x`.\n",
    "\n",
    "\n",
    "For both functions, only one of the Σγ or Σγω matrices have to be specified in order to use the function. Σγ can be used to specify that the generative model will not include a random scale component. It outputs `ys`: an array of reponse `y` that match the order of the data arrays (`Xs, Zs, Ws`)."
   ]
  },
  {
   "cell_type": "code",
   "execution_count": 17,
   "metadata": {},
   "outputs": [
    {
     "name": "stdout",
     "output_type": "stream",
     "text": [
      "(vlmm.data[1]).y = [159.58635186701068, 161.84850248386945, 160.48359574389164, 161.13448128282593, 165.44341004850986, 160.05302471176626, 162.1001598920002, 163.1526453898974, 166.6749897477845]\n",
      "(vlmm.data[1]).y = [163.18878816959145, 161.92583955740076, 160.66341989866248, 165.16516161135553, 162.25415689993756, 163.00335025501857, 162.06896794235755, 161.4110226386001, 160.57277004398432]\n"
     ]
    },
    {
     "data": {
      "text/plain": [
       "9-element Array{Float64,1}:\n",
       " 163.18878816959145\n",
       " 161.92583955740076\n",
       " 160.66341989866248\n",
       " 165.16516161135553\n",
       " 162.25415689993756\n",
       " 163.00335025501857\n",
       " 162.06896794235755\n",
       " 161.4110226386001\n",
       " 160.57277004398432"
      ]
     },
     "execution_count": 17,
     "metadata": {},
     "output_type": "execute_result"
    }
   ],
   "source": [
    "@show vlmm.data[1].y\n",
    "Random.seed!(123)\n",
    "WiSER.rand!(vlmm; respdist = MvNormal) \n",
    "@show vlmm.data[1].y"
   ]
  },
  {
   "cell_type": "code",
   "execution_count": 18,
   "metadata": {},
   "outputs": [
    {
     "data": {
      "text/html": [
       "<table class=\"data-frame\"><thead><tr><th></th><th>id</th><th>y</th><th>x1</th><th>x2</th><th>x3</th><th>z1</th><th>z2</th><th>w1</th><th>w2</th></tr><tr><th></th><th>Int64</th><th>Float64</th><th>Float64</th><th>Float64</th><th>Float64</th><th>Float64</th><th>Float64</th><th>Float64</th><th>Float64</th></tr></thead><tbody><p>3 rows × 10 columns (omitted printing of 1 columns)</p><tr><th>1</th><td>1</td><td>1.54783</td><td>1.0</td><td>0.268209</td><td>-0.0571664</td><td>1.0</td><td>0.222619</td><td>1.0</td><td>1.17759</td></tr><tr><th>2</th><td>1</td><td>0.365508</td><td>1.0</td><td>1.17666</td><td>-0.204264</td><td>1.0</td><td>1.0579</td><td>1.0</td><td>0.431064</td></tr><tr><th>3</th><td>2</td><td>-0.31447</td><td>1.0</td><td>0.453137</td><td>-0.402403</td><td>1.0</td><td>-1.65662</td><td>1.0</td><td>-0.216927</td></tr></tbody></table>"
      ],
      "text/latex": [
       "\\begin{tabular}{r|cccccccccc}\n",
       "\t& id & y & x1 & x2 & x3 & z1 & z2 & w1 & w2 & \\\\\n",
       "\t\\hline\n",
       "\t& Int64 & Float64 & Float64 & Float64 & Float64 & Float64 & Float64 & Float64 & Float64 & \\\\\n",
       "\t\\hline\n",
       "\t1 & 1 & 1.54783 & 1.0 & 0.268209 & -0.0571664 & 1.0 & 0.222619 & 1.0 & 1.17759 & $\\dots$ \\\\\n",
       "\t2 & 1 & 0.365508 & 1.0 & 1.17666 & -0.204264 & 1.0 & 1.0579 & 1.0 & 0.431064 & $\\dots$ \\\\\n",
       "\t3 & 2 & -0.31447 & 1.0 & 0.453137 & -0.402403 & 1.0 & -1.65662 & 1.0 & -0.216927 & $\\dots$ \\\\\n",
       "\\end{tabular}\n"
      ],
      "text/plain": [
       "3×10 DataFrame. Omitted printing of 4 columns\n",
       "│ Row │ id    │ y        │ x1      │ x2       │ x3         │ z1      │\n",
       "│     │ \u001b[90mInt64\u001b[39m │ \u001b[90mFloat64\u001b[39m  │ \u001b[90mFloat64\u001b[39m │ \u001b[90mFloat64\u001b[39m  │ \u001b[90mFloat64\u001b[39m    │ \u001b[90mFloat64\u001b[39m │\n",
       "├─────┼───────┼──────────┼─────────┼──────────┼────────────┼─────────┤\n",
       "│ 1   │ 1     │ 1.54783  │ 1.0     │ 0.268209 │ -0.0571664 │ 1.0     │\n",
       "│ 2   │ 1     │ 0.365508 │ 1.0     │ 1.17666  │ -0.204264  │ 1.0     │\n",
       "│ 3   │ 2     │ -0.31447 │ 1.0     │ 0.453137 │ -0.402403  │ 1.0     │"
      ]
     },
     "execution_count": 18,
     "metadata": {},
     "output_type": "execute_result"
    }
   ],
   "source": [
    "t = table((id = [1; 1; 2; 3; 3; 3; 4], y = randn(7),\n",
    "x1 = ones(7), x2 = randn(7), x3 = randn(7), z1 = ones(7),\n",
    "z2 = randn(7), w1 = ones(7), w2 = randn(7), w3 = randn(7)))\n",
    "df = DataFrame(t)\n",
    "\n",
    "f1 = @formula(y ~ 1 + x2 + x3)\n",
    "f2 = @formula(y ~ 1 + z2)\n",
    "f3 = @formula(y ~ 1 + w2 + w3)\n",
    "\n",
    "β = zeros(3)\n",
    "τ = zeros(3)\n",
    "Σγ = [1. 0.; 0. 1.]\n",
    "\n",
    "first(df, 3)"
   ]
  },
  {
   "cell_type": "code",
   "execution_count": 19,
   "metadata": {},
   "outputs": [
    {
     "data": {
      "text/plain": [
       "7-element Array{Float64,1}:\n",
       " -1.1362274345153838\n",
       " -2.0396426949163917\n",
       " -3.0297957994022724\n",
       "  0.7967897326514723\n",
       "  1.1225160002462085\n",
       "  1.2517509664063533\n",
       "  0.34088047862482207"
      ]
     },
     "execution_count": 19,
     "metadata": {},
     "output_type": "execute_result"
    }
   ],
   "source": [
    "rvarlmm!(f1, f2, f3, :id, df, β, τ;\n",
    "        Σγ = Σγ, respname = :response)\n",
    "df[!, :response]"
   ]
  },
  {
   "cell_type": "markdown",
   "metadata": {},
   "source": [
    "Note: JuliaDB's `IndexedTables` elements cannot be mutated. If you use the `rvarlmm!()` function with a JuliaDB table, you must reassign the `datatable` to the output as shown below:"
   ]
  },
  {
   "cell_type": "code",
   "execution_count": 20,
   "metadata": {},
   "outputs": [
    {
     "data": {
      "text/plain": [
       "Table with 7 rows, 11 columns:\n",
       "Columns:\n",
       "\u001b[1m#   \u001b[22m\u001b[1mcolname   \u001b[22m\u001b[1mtype\u001b[22m\n",
       "─────────────────────\n",
       "1   id        Int64\n",
       "2   y         Float64\n",
       "3   x1        Float64\n",
       "4   x2        Float64\n",
       "5   x3        Float64\n",
       "6   z1        Float64\n",
       "7   z2        Float64\n",
       "8   w1        Float64\n",
       "9   w2        Float64\n",
       "10  w3        Float64\n",
       "11  response  Float64"
      ]
     },
     "execution_count": 20,
     "metadata": {},
     "output_type": "execute_result"
    }
   ],
   "source": [
    "t = rvarlmm!(f1, f2, f3, :id, t, β, τ;\n",
    "        Σγ = Σγ, respname = :response)"
   ]
  }
 ],
 "metadata": {
  "@webio": {
   "lastCommId": null,
   "lastKernelId": null
  },
  "kernelspec": {
   "display_name": "Julia 1.4.1",
   "language": "julia",
   "name": "julia-1.4"
  },
  "language_info": {
   "file_extension": ".jl",
   "mimetype": "application/julia",
   "name": "julia",
   "version": "1.4.1"
  },
  "toc-autonumbering": true
 },
 "nbformat": 4,
 "nbformat_minor": 4
}
