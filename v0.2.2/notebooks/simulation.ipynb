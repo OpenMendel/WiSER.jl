{
 "cells": [
  {
   "cell_type": "markdown",
   "metadata": {},
   "source": [
    "# Simulating responses\n",
    "\n",
    "The `rvarlmm()` and `rvarlmm!()` functions can be used to generate a respone from user-supplied data and parameters. The `rand!()` command can be used to overwrite the response in a VarLmmModel object based on the parameters and optional user-supplied distribution.   \n",
    "\n",
    "The `rand!(m::WSVarLmmModel; respdist = MvNormal, γωdist = MvNormal, Σγω = [], kwargs...)` function replaces the responses `m.data[i].y` with a simulated response based on:\n",
    "\n",
    "- The data in the model object's data `X, Z, W` matrices. \n",
    "- The parameter values in the model.\n",
    "- The conditional distribution of the response given the random effects.\n",
    "- The distribution of the random effects.\n",
    "- If simulating from MvTDistribution, you must specify the degrees of freedom via `df = x`.\n",
    "\n",
    "The `rvarlmm()` takes arrays of matricies of the data in addition to the reponse. It generates a simulated response from the VarLMM model based on:\n",
    "- `Xs`: array of each clusters `X`: mean fixed effects covariates\n",
    "- `Zs`: array of each clusters `Z`: random location effects covariates\n",
    "- `Ws`: array of each clusters `W`: within-subject variance fixed effects covariates\n",
    "- `β`: mean fixed effects vector\n",
    "- `τ`: within-subject variance fixed effects vector\n",
    "- `respdist`: the distribution for response. Default is MvNormal. \n",
    "- `Σγ`: random location effects covariance matrix. \n",
    "- `Σγω`: joint random location and random scale effects covariance matrix (if generating from full model).\n",
    "- If simulating from MvTDistribution, you must specify the degrees of freedom via `df = x`.\n",
    "\n",
    "\n",
    "The `rvarlmm!()` function can be used to generate a simulated response from the VarLMM model based on a dataframe and place the generated response into the datatable with the `respname` field. \n",
    "\n",
    "Note: **the dataframe MUST be ordered by grouping variable for it to generate in the correct order.**\n",
    "This can be checked via `dataframe == sort(dataframe, idvar)`. The response is based on:\n",
    "\n",
    "- `meanformula`: represents the formula for the mean fixed effects `β` (variables in X matrix)\n",
    "- `reformula`: represents the formula for the mean random effects γ (variables in Z matrix)\n",
    "- `wsvarformula`: represents the formula for the within-subject variance fixed effects τ (variables in W matrix)\n",
    "- `idvar`: the id variable for groupings.\n",
    "- `dataframe`: the dataframe holding all of the data for the model. For this function it **must be in order**.\n",
    "- `β`: mean fixed effects vector\n",
    "- `τ`: within-subject variance fixed effects vector\n",
    "- `respdist`: the distribution for response. Default is MvNormal. \n",
    "- `Σγ`: random location effects covariance matrix. \n",
    "- `Σγω`: joint random location and random scale effects covariance matrix (if generating from full model)\n",
    "- `respname`: symbol representing the simulated response variable name.\n",
    "- If simulating from MvTDistribution, you must specify the degrees of freedom via `df = x`.\n",
    "\n",
    "\n",
    "For both functions, only one of the Σγ or Σγω matrices have to be specified in order to use the function. Σγ can be used to specify that the generative model will not include a random scale component. It outputs `ys`: an array of reponse `y` that match the order of the data arrays (`Xs, Zs, Ws`)."
   ]
  },
  {
   "cell_type": "markdown",
   "metadata": {},
   "source": [
    "We can start by loading the pacakges, data, and fitting a model."
   ]
  },
  {
   "cell_type": "code",
   "execution_count": 1,
   "metadata": {},
   "outputs": [
    {
     "name": "stdout",
     "output_type": "stream",
     "text": [
      "\n",
      "******************************************************************************\n",
      "This program contains Ipopt, a library for large-scale nonlinear optimization.\n",
      " Ipopt is released as open source code under the Eclipse Public License (EPL).\n",
      "         For more information visit https://github.com/coin-or/Ipopt\n",
      "******************************************************************************\n",
      "\n",
      "run = 1, ‖Δβ‖ = 0.037311, ‖Δτ‖ = 0.166678, ‖ΔL‖ = 0.100999, status = Optimal, time(s) = 0.215811\n",
      "run = 2, ‖Δβ‖ = 0.005220, ‖Δτ‖ = 0.006748, ‖ΔL‖ = 0.048735, status = Optimal, time(s) = 0.083461\n"
     ]
    },
    {
     "data": {
      "text/plain": [
       "\n",
       "Within-subject variance estimation by robust regression (WiSER)\n",
       "\n",
       "Mean Formula:\n",
       "sbp ~ 1 + agegroup + gender + bmi_std + meds\n",
       "Random Effects Formula:\n",
       "sbp ~ 1 + bmi_std\n",
       "Within-Subject Variance Formula:\n",
       "sbp ~ 1 + agegroup + meds + bmi_std\n",
       "\n",
       "Number of individuals/clusters: 500\n",
       "Total observations: 5011\n",
       "\n",
       "Fixed-effects parameters:\n",
       "───────────────────────────────────────────────────────────\n",
       "                     Estimate  Std. Error       Z  Pr(>|Z|)\n",
       "───────────────────────────────────────────────────────────\n",
       "β1: (Intercept)   106.308       0.14384    739.07    <1e-99\n",
       "β2: agegroup       14.9844      0.0633245  236.63    <1e-99\n",
       "β3: gender: Male   10.0749      0.100279   100.47    <1e-99\n",
       "β4: bmi_std         0.296424    0.0139071   21.31    <1e-99\n",
       "β5: meds: OnMeds  -10.1107      0.122918   -82.26    <1e-99\n",
       "τ1: (Intercept)    -2.5212      0.393792    -6.40    <1e-09\n",
       "τ2: agegroup        1.50759     0.135456    11.13    <1e-28\n",
       "τ3: meds: OnMeds   -0.435225    0.0621076   -7.01    <1e-11\n",
       "τ4: bmi_std         0.0052695   0.0224039    0.24    0.8140\n",
       "───────────────────────────────────────────────────────────\n",
       "Random effects covariance matrix Σγ:\n",
       " \"γ1: (Intercept)\"  1.00196    0.0181387\n",
       " \"γ2: bmi_std\"      0.0181387  0.000549357\n",
       "\n"
      ]
     },
     "execution_count": 1,
     "metadata": {},
     "output_type": "execute_result"
    }
   ],
   "source": [
    "using CSV, DataFrames, Random, WiSER\n",
    "filepath = normpath(joinpath(dirname(pathof(WiSER)), \"../data/\"))\n",
    "df = DataFrame(CSV.File(filepath * \"sbp.csv\"))\n",
    "vlmm = WSVarLmmModel(\n",
    "    @formula(sbp ~ 1 + agegroup + gender + bmi_std + meds), \n",
    "    @formula(sbp ~ 1 + bmi_std), \n",
    "    @formula(sbp ~ 1 + agegroup + meds + bmi_std),\n",
    "    :id, df);\n",
    "WiSER.fit!(vlmm)"
   ]
  },
  {
   "cell_type": "markdown",
   "metadata": {},
   "source": [
    "Once the model has been fit, we can overwrite the response variable simulating a new response based on the model's current parameters. This is done by calling the `rand!()` function on the model object. Here we simulate from a multivariate normal dsitribution for $y$."
   ]
  },
  {
   "cell_type": "code",
   "execution_count": 2,
   "metadata": {},
   "outputs": [
    {
     "data": {
      "text/plain": [
       "9×2 Matrix{Float64}:\n",
       " 159.586  163.223\n",
       " 161.849  161.898\n",
       " 160.484  160.667\n",
       " 161.134  165.167\n",
       " 165.443  162.258\n",
       " 160.053  163.019\n",
       " 162.1    162.065\n",
       " 163.153  161.422\n",
       " 166.675  160.552"
      ]
     },
     "execution_count": 2,
     "metadata": {},
     "output_type": "execute_result"
    }
   ],
   "source": [
    "yoriginal = copy(vlmm.data[1].y)\n",
    "Random.seed!(123)\n",
    "WiSER.rand!(vlmm; respdist = MvNormal) \n",
    "[yoriginal vlmm.data[1].y]"
   ]
  },
  {
   "cell_type": "markdown",
   "metadata": {},
   "source": [
    "Other response distributions have been coded. To get a list of available distributions use `respdists()`"
   ]
  },
  {
   "cell_type": "code",
   "execution_count": 3,
   "metadata": {},
   "outputs": [
    {
     "data": {
      "text/plain": [
       "6-element Vector{Symbol}:\n",
       " :MvNormal\n",
       " :MvTDist\n",
       " :Gamma\n",
       " :InverseGaussian\n",
       " :InverseGamma\n",
       " :Uniform"
      ]
     },
     "execution_count": 3,
     "metadata": {},
     "output_type": "execute_result"
    }
   ],
   "source": [
    "respdists()"
   ]
  },
  {
   "cell_type": "code",
   "execution_count": 4,
   "metadata": {},
   "outputs": [
    {
     "data": {
      "text/plain": [
       "9-element Vector{Float64}:\n",
       " 163.1357991396798\n",
       " 165.1430739396795\n",
       " 162.08532565729797\n",
       " 159.6822122192519\n",
       " 161.57688777672846\n",
       " 164.58912923247945\n",
       " 157.98192168704628\n",
       " 164.12521616207954\n",
       " 163.73003300792996"
      ]
     },
     "execution_count": 4,
     "metadata": {},
     "output_type": "execute_result"
    }
   ],
   "source": [
    "WiSER.rand!(vlmm; respdist = InverseGamma) \n",
    "vlmm.data[1].y"
   ]
  },
  {
   "cell_type": "markdown",
   "metadata": {},
   "source": [
    "We can also simulate a response variable from a dataframe and a formula. \n",
    "\n",
    "If you don't want to overwrite the response variable in the dataframe, you can use the `respname` optional keyword argument to specify the desired variable name to save the response variable as. "
   ]
  },
  {
   "cell_type": "code",
   "execution_count": 5,
   "metadata": {},
   "outputs": [
    {
     "data": {
      "text/plain": [
       "7×2 Matrix{Float64}:\n",
       " -0.474718   0.0945213\n",
       " -0.615475   2.06463\n",
       " -0.577114   3.7559\n",
       " -1.14809    1.66547\n",
       " -0.53171   -0.250939\n",
       "  1.26381   -0.400644\n",
       " -1.32798   -1.67888"
      ]
     },
     "execution_count": 5,
     "metadata": {},
     "output_type": "execute_result"
    }
   ],
   "source": [
    "df = DataFrame(id = [1; 1; 2; 3; 3; 3; 4], y = randn(7),\n",
    "x2 = randn(7), x3 = randn(7), z2 = randn(7), w2 = randn(7), w3 = randn(7))\n",
    "\n",
    "f1 = @formula(y ~ 1 + x2 + x3)\n",
    "f2 = @formula(y ~ 1 + z2)\n",
    "f3 = @formula(y ~ 1 + w2 + w3)\n",
    "\n",
    "β = zeros(3)\n",
    "τ = zeros(3)\n",
    "Σγ = [1. 0.; 0. 1.]\n",
    "rvarlmm!(f1, f2, f3, :id, df, β, τ;\n",
    "        Σγ = Σγ, respname = :response)\n",
    "[df[!, :y] df[!, :response]]"
   ]
  }
 ],
 "metadata": {
  "@webio": {
   "lastCommId": null,
   "lastKernelId": null
  },
  "hide_input": false,
  "kernelspec": {
   "display_name": "Julia 1.6.0",
   "language": "julia",
   "name": "julia-1.6"
  },
  "language_info": {
   "file_extension": ".jl",
   "mimetype": "application/julia",
   "name": "julia",
   "version": "1.6.0"
  },
  "toc": {
   "colors": {
    "hover_highlight": "#DAA520",
    "running_highlight": "#FF0000",
    "selected_highlight": "#FFD700"
   },
   "moveMenuLeft": true,
   "nav_menu": {
    "height": "29.200000762939453px",
    "width": "251.60000610351562px"
   },
   "navigate_menu": true,
   "number_sections": true,
   "sideBar": true,
   "skip_h1_title": true,
   "threshold": 4,
   "toc_cell": false,
   "toc_section_display": "block",
   "toc_window_display": false,
   "widenNotebook": false
  },
  "toc-autonumbering": true
 },
 "nbformat": 4,
 "nbformat_minor": 4
}
